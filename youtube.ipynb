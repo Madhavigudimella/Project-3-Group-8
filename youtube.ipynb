{
 "cells": [
  {
   "cell_type": "code",
   "execution_count": 1,
   "id": "e8dbf1e4",
   "metadata": {},
   "outputs": [],
   "source": [
    "#Dependencies\n",
    "import pandas as pd"
   ]
  },
  {
   "cell_type": "code",
   "execution_count": 2,
   "id": "903816cd",
   "metadata": {},
   "outputs": [
    {
     "data": {
      "text/html": [
       "<div>\n",
       "<style scoped>\n",
       "    .dataframe tbody tr th:only-of-type {\n",
       "        vertical-align: middle;\n",
       "    }\n",
       "\n",
       "    .dataframe tbody tr th {\n",
       "        vertical-align: top;\n",
       "    }\n",
       "\n",
       "    .dataframe thead th {\n",
       "        text-align: right;\n",
       "    }\n",
       "</style>\n",
       "<table border=\"1\" class=\"dataframe\">\n",
       "  <thead>\n",
       "    <tr style=\"text-align: right;\">\n",
       "      <th></th>\n",
       "      <th>youtuber name</th>\n",
       "      <th>channel name</th>\n",
       "      <th>Category</th>\n",
       "      <th>Subscribers</th>\n",
       "      <th>Audience Country</th>\n",
       "      <th>avg views</th>\n",
       "      <th>avg likes</th>\n",
       "      <th>avg comments</th>\n",
       "    </tr>\n",
       "  </thead>\n",
       "  <tbody>\n",
       "    <tr>\n",
       "      <th>0</th>\n",
       "      <td>tseries</td>\n",
       "      <td>T-Series</td>\n",
       "      <td>Music &amp; Dance</td>\n",
       "      <td>212.1M</td>\n",
       "      <td>India</td>\n",
       "      <td>323.7K</td>\n",
       "      <td>9.8K</td>\n",
       "      <td>290</td>\n",
       "    </tr>\n",
       "    <tr>\n",
       "      <th>1</th>\n",
       "      <td>checkgate</td>\n",
       "      <td>Cocomelon - Nursery Rhymes</td>\n",
       "      <td>Education</td>\n",
       "      <td>132.1M</td>\n",
       "      <td>NaN</td>\n",
       "      <td>13.8M</td>\n",
       "      <td>80.9K</td>\n",
       "      <td>NaN</td>\n",
       "    </tr>\n",
       "    <tr>\n",
       "      <th>2</th>\n",
       "      <td>setindia</td>\n",
       "      <td>SET India</td>\n",
       "      <td>NaN</td>\n",
       "      <td>130.4M</td>\n",
       "      <td>India</td>\n",
       "      <td>23.6K</td>\n",
       "      <td>314</td>\n",
       "      <td>21</td>\n",
       "    </tr>\n",
       "    <tr>\n",
       "      <th>3</th>\n",
       "      <td>PewDiePie</td>\n",
       "      <td>PewDiePie</td>\n",
       "      <td>Animation</td>\n",
       "      <td>111.4M</td>\n",
       "      <td>United States</td>\n",
       "      <td>1.4M</td>\n",
       "      <td>80.8K</td>\n",
       "      <td>4.6K</td>\n",
       "    </tr>\n",
       "    <tr>\n",
       "      <th>4</th>\n",
       "      <td>MrBeast6000</td>\n",
       "      <td>MrBeast</td>\n",
       "      <td>Video games</td>\n",
       "      <td>92.5M</td>\n",
       "      <td>United States</td>\n",
       "      <td>30.6M</td>\n",
       "      <td>1.7M</td>\n",
       "      <td>67.7K</td>\n",
       "    </tr>\n",
       "    <tr>\n",
       "      <th>...</th>\n",
       "      <td>...</td>\n",
       "      <td>...</td>\n",
       "      <td>...</td>\n",
       "      <td>...</td>\n",
       "      <td>...</td>\n",
       "      <td>...</td>\n",
       "      <td>...</td>\n",
       "      <td>...</td>\n",
       "    </tr>\n",
       "    <tr>\n",
       "      <th>995</th>\n",
       "      <td>FutParódias</td>\n",
       "      <td>FutParódias</td>\n",
       "      <td>Music &amp; Dance</td>\n",
       "      <td>9.2M</td>\n",
       "      <td>Brazil</td>\n",
       "      <td>1.4M</td>\n",
       "      <td>110.1K</td>\n",
       "      <td>2.5K</td>\n",
       "    </tr>\n",
       "    <tr>\n",
       "      <th>996</th>\n",
       "      <td>EL GATO</td>\n",
       "      <td>EL GATO</td>\n",
       "      <td>Toys</td>\n",
       "      <td>9.2M</td>\n",
       "      <td>Brazil</td>\n",
       "      <td>243.8K</td>\n",
       "      <td>30.7K</td>\n",
       "      <td>636</td>\n",
       "    </tr>\n",
       "    <tr>\n",
       "      <th>997</th>\n",
       "      <td>CinemaSins</td>\n",
       "      <td>CinemaSins</td>\n",
       "      <td>Movies</td>\n",
       "      <td>9.2M</td>\n",
       "      <td>United States</td>\n",
       "      <td>296K</td>\n",
       "      <td>10.2K</td>\n",
       "      <td>874</td>\n",
       "    </tr>\n",
       "    <tr>\n",
       "      <th>998</th>\n",
       "      <td>CricketICC</td>\n",
       "      <td>ICC</td>\n",
       "      <td>Sports</td>\n",
       "      <td>9.2M</td>\n",
       "      <td>India</td>\n",
       "      <td>15.2K</td>\n",
       "      <td>854</td>\n",
       "      <td>58</td>\n",
       "    </tr>\n",
       "    <tr>\n",
       "      <th>999</th>\n",
       "      <td>BRKsEDU</td>\n",
       "      <td>BRKsEDU</td>\n",
       "      <td>Animation</td>\n",
       "      <td>9.2M</td>\n",
       "      <td>Brazil</td>\n",
       "      <td>112.3K</td>\n",
       "      <td>9.8K</td>\n",
       "      <td>246</td>\n",
       "    </tr>\n",
       "  </tbody>\n",
       "</table>\n",
       "<p>1000 rows × 8 columns</p>\n",
       "</div>"
      ],
      "text/plain": [
       "    youtuber name                channel name       Category Subscribers  \\\n",
       "0         tseries                    T-Series  Music & Dance      212.1M   \n",
       "1       checkgate  Cocomelon - Nursery Rhymes      Education      132.1M   \n",
       "2        setindia                   SET India            NaN      130.4M   \n",
       "3       PewDiePie                   PewDiePie      Animation      111.4M   \n",
       "4     MrBeast6000                     MrBeast    Video games       92.5M   \n",
       "..            ...                         ...            ...         ...   \n",
       "995   FutParódias                 FutParódias  Music & Dance        9.2M   \n",
       "996       EL GATO                     EL GATO           Toys        9.2M   \n",
       "997    CinemaSins                  CinemaSins         Movies        9.2M   \n",
       "998    CricketICC                         ICC         Sports        9.2M   \n",
       "999       BRKsEDU                     BRKsEDU      Animation        9.2M   \n",
       "\n",
       "    Audience Country avg views avg likes avg comments  \n",
       "0              India    323.7K      9.8K          290  \n",
       "1                NaN     13.8M     80.9K          NaN  \n",
       "2              India     23.6K       314           21  \n",
       "3      United States      1.4M     80.8K         4.6K  \n",
       "4      United States     30.6M      1.7M        67.7K  \n",
       "..               ...       ...       ...          ...  \n",
       "995           Brazil      1.4M    110.1K         2.5K  \n",
       "996           Brazil    243.8K     30.7K          636  \n",
       "997    United States      296K     10.2K          874  \n",
       "998            India     15.2K       854           58  \n",
       "999           Brazil    112.3K      9.8K          246  \n",
       "\n",
       "[1000 rows x 8 columns]"
      ]
     },
     "execution_count": 2,
     "metadata": {},
     "output_type": "execute_result"
    }
   ],
   "source": [
    "#File to load\n",
    "file_to_load = \"resources/social media influencers - youtube.csv\"\n",
    "youtube = pd.read_csv(file_to_load)\n",
    "youtube"
   ]
  },
  {
   "cell_type": "code",
   "execution_count": 3,
   "id": "fe54342e",
   "metadata": {},
   "outputs": [
    {
     "data": {
      "text/html": [
       "<div>\n",
       "<style scoped>\n",
       "    .dataframe tbody tr th:only-of-type {\n",
       "        vertical-align: middle;\n",
       "    }\n",
       "\n",
       "    .dataframe tbody tr th {\n",
       "        vertical-align: top;\n",
       "    }\n",
       "\n",
       "    .dataframe thead th {\n",
       "        text-align: right;\n",
       "    }\n",
       "</style>\n",
       "<table border=\"1\" class=\"dataframe\">\n",
       "  <thead>\n",
       "    <tr style=\"text-align: right;\">\n",
       "      <th></th>\n",
       "      <th>youtuber name</th>\n",
       "      <th>channel name</th>\n",
       "      <th>Category</th>\n",
       "      <th>Subscribers</th>\n",
       "      <th>Audience Country</th>\n",
       "      <th>avg views</th>\n",
       "      <th>avg likes</th>\n",
       "      <th>avg comments</th>\n",
       "    </tr>\n",
       "  </thead>\n",
       "  <tbody>\n",
       "    <tr>\n",
       "      <th>0</th>\n",
       "      <td>tseries</td>\n",
       "      <td>T-Series</td>\n",
       "      <td>Music &amp; Dance</td>\n",
       "      <td>212.1M</td>\n",
       "      <td>India</td>\n",
       "      <td>323.7K</td>\n",
       "      <td>9.8K</td>\n",
       "      <td>290</td>\n",
       "    </tr>\n",
       "    <tr>\n",
       "      <th>1</th>\n",
       "      <td>checkgate</td>\n",
       "      <td>Cocomelon - Nursery Rhymes</td>\n",
       "      <td>Education</td>\n",
       "      <td>132.1M</td>\n",
       "      <td>NaN</td>\n",
       "      <td>13.8M</td>\n",
       "      <td>80.9K</td>\n",
       "      <td>NaN</td>\n",
       "    </tr>\n",
       "    <tr>\n",
       "      <th>2</th>\n",
       "      <td>setindia</td>\n",
       "      <td>SET India</td>\n",
       "      <td>NaN</td>\n",
       "      <td>130.4M</td>\n",
       "      <td>India</td>\n",
       "      <td>23.6K</td>\n",
       "      <td>314</td>\n",
       "      <td>21</td>\n",
       "    </tr>\n",
       "    <tr>\n",
       "      <th>3</th>\n",
       "      <td>PewDiePie</td>\n",
       "      <td>PewDiePie</td>\n",
       "      <td>Animation</td>\n",
       "      <td>111.4M</td>\n",
       "      <td>United States</td>\n",
       "      <td>1.4M</td>\n",
       "      <td>80.8K</td>\n",
       "      <td>4.6K</td>\n",
       "    </tr>\n",
       "    <tr>\n",
       "      <th>4</th>\n",
       "      <td>MrBeast6000</td>\n",
       "      <td>MrBeast</td>\n",
       "      <td>Video games</td>\n",
       "      <td>92.5M</td>\n",
       "      <td>United States</td>\n",
       "      <td>30.6M</td>\n",
       "      <td>1.7M</td>\n",
       "      <td>67.7K</td>\n",
       "    </tr>\n",
       "    <tr>\n",
       "      <th>...</th>\n",
       "      <td>...</td>\n",
       "      <td>...</td>\n",
       "      <td>...</td>\n",
       "      <td>...</td>\n",
       "      <td>...</td>\n",
       "      <td>...</td>\n",
       "      <td>...</td>\n",
       "      <td>...</td>\n",
       "    </tr>\n",
       "    <tr>\n",
       "      <th>995</th>\n",
       "      <td>FutParódias</td>\n",
       "      <td>FutParódias</td>\n",
       "      <td>Music &amp; Dance</td>\n",
       "      <td>9.2M</td>\n",
       "      <td>Brazil</td>\n",
       "      <td>1.4M</td>\n",
       "      <td>110.1K</td>\n",
       "      <td>2.5K</td>\n",
       "    </tr>\n",
       "    <tr>\n",
       "      <th>996</th>\n",
       "      <td>EL GATO</td>\n",
       "      <td>EL GATO</td>\n",
       "      <td>Toys</td>\n",
       "      <td>9.2M</td>\n",
       "      <td>Brazil</td>\n",
       "      <td>243.8K</td>\n",
       "      <td>30.7K</td>\n",
       "      <td>636</td>\n",
       "    </tr>\n",
       "    <tr>\n",
       "      <th>997</th>\n",
       "      <td>CinemaSins</td>\n",
       "      <td>CinemaSins</td>\n",
       "      <td>Movies</td>\n",
       "      <td>9.2M</td>\n",
       "      <td>United States</td>\n",
       "      <td>296K</td>\n",
       "      <td>10.2K</td>\n",
       "      <td>874</td>\n",
       "    </tr>\n",
       "    <tr>\n",
       "      <th>998</th>\n",
       "      <td>CricketICC</td>\n",
       "      <td>ICC</td>\n",
       "      <td>Sports</td>\n",
       "      <td>9.2M</td>\n",
       "      <td>India</td>\n",
       "      <td>15.2K</td>\n",
       "      <td>854</td>\n",
       "      <td>58</td>\n",
       "    </tr>\n",
       "    <tr>\n",
       "      <th>999</th>\n",
       "      <td>BRKsEDU</td>\n",
       "      <td>BRKsEDU</td>\n",
       "      <td>Animation</td>\n",
       "      <td>9.2M</td>\n",
       "      <td>Brazil</td>\n",
       "      <td>112.3K</td>\n",
       "      <td>9.8K</td>\n",
       "      <td>246</td>\n",
       "    </tr>\n",
       "  </tbody>\n",
       "</table>\n",
       "<p>942 rows × 8 columns</p>\n",
       "</div>"
      ],
      "text/plain": [
       "    youtuber name                channel name       Category Subscribers  \\\n",
       "0         tseries                    T-Series  Music & Dance      212.1M   \n",
       "1       checkgate  Cocomelon - Nursery Rhymes      Education      132.1M   \n",
       "2        setindia                   SET India            NaN      130.4M   \n",
       "3       PewDiePie                   PewDiePie      Animation      111.4M   \n",
       "4     MrBeast6000                     MrBeast    Video games       92.5M   \n",
       "..            ...                         ...            ...         ...   \n",
       "995   FutParódias                 FutParódias  Music & Dance        9.2M   \n",
       "996       EL GATO                     EL GATO           Toys        9.2M   \n",
       "997    CinemaSins                  CinemaSins         Movies        9.2M   \n",
       "998    CricketICC                         ICC         Sports        9.2M   \n",
       "999       BRKsEDU                     BRKsEDU      Animation        9.2M   \n",
       "\n",
       "    Audience Country avg views avg likes avg comments  \n",
       "0              India    323.7K      9.8K          290  \n",
       "1                NaN     13.8M     80.9K          NaN  \n",
       "2              India     23.6K       314           21  \n",
       "3      United States      1.4M     80.8K         4.6K  \n",
       "4      United States     30.6M      1.7M        67.7K  \n",
       "..               ...       ...       ...          ...  \n",
       "995           Brazil      1.4M    110.1K         2.5K  \n",
       "996           Brazil    243.8K     30.7K          636  \n",
       "997    United States      296K     10.2K          874  \n",
       "998            India     15.2K       854           58  \n",
       "999           Brazil    112.3K      9.8K          246  \n",
       "\n",
       "[942 rows x 8 columns]"
      ]
     },
     "execution_count": 3,
     "metadata": {},
     "output_type": "execute_result"
    }
   ],
   "source": [
    "#Drop unnecessary categories\n",
    "\n",
    "youtube.drop(youtube.loc[youtube['Category']=='News & Politics'].index, inplace=True)\n",
    "\n",
    "youtube.drop(youtube.loc[youtube['Category']=='Design/art'].index, inplace=True)\n",
    "\n",
    "youtube.drop(youtube.loc[youtube['Category']=='Mystery'].index, inplace=True)\n",
    "\n",
    "youtube.drop(youtube.loc[youtube['Category']=='Automotive'].index, inplace=True)\n",
    "\n",
    "youtube.drop(youtube.loc[youtube['Category']=='Animals & Pets'].index, inplace=True)\n",
    "\n",
    "youtube"
   ]
  },
  {
   "cell_type": "code",
   "execution_count": 4,
   "id": "34cef417",
   "metadata": {},
   "outputs": [],
   "source": [
    "#Group and rename categories\n",
    "\n",
    "youtube['Category']=youtube['Category'].replace(['Beauty','Fashion'],'Fashion/ Beauty')\n",
    "\n",
    "youtube['Category']=youtube['Category'].replace(['Daily vlogs','DIY & Life Hacks','Travel','Humor','Health & Self Help'],'Travel/ Lifestyle')\n",
    "\n",
    "youtube['Category']=youtube['Category'].replace(['Music & Dance','Animation','Movies'],'Celebrity/ Entertainment')\n",
    "\n",
    "youtube['Category']=youtube['Category'].replace(['Fitness'],'Health/ Fitness')\n",
    "\n",
    "youtube['Category']=youtube['Category'].replace(['Toys'],'Family/ Home/ Parenting')\n",
    "\n",
    "youtube['Category']=youtube['Category'].replace(['Science & Technology','Video games'],'Business/ Tech/ Gaming')\n",
    "\n",
    "youtube['Category']=youtube['Category'].replace(['Autos & Vehicles'],'Automotive')\n",
    "\n",
    "youtube['Category']=youtube['Category'].replace(['Food & Drinks','ASMR'],'Food')\n"
   ]
  },
  {
   "cell_type": "code",
   "execution_count": 5,
   "id": "1b2d5766",
   "metadata": {},
   "outputs": [
    {
     "data": {
      "text/html": [
       "<div>\n",
       "<style scoped>\n",
       "    .dataframe tbody tr th:only-of-type {\n",
       "        vertical-align: middle;\n",
       "    }\n",
       "\n",
       "    .dataframe tbody tr th {\n",
       "        vertical-align: top;\n",
       "    }\n",
       "\n",
       "    .dataframe thead th {\n",
       "        text-align: right;\n",
       "    }\n",
       "</style>\n",
       "<table border=\"1\" class=\"dataframe\">\n",
       "  <thead>\n",
       "    <tr style=\"text-align: right;\">\n",
       "      <th></th>\n",
       "      <th>channel name</th>\n",
       "      <th>Category</th>\n",
       "      <th>Subscribers</th>\n",
       "      <th>Audience Country</th>\n",
       "      <th>avg views</th>\n",
       "      <th>avg likes</th>\n",
       "      <th>avg comments</th>\n",
       "    </tr>\n",
       "  </thead>\n",
       "  <tbody>\n",
       "    <tr>\n",
       "      <th>0</th>\n",
       "      <td>T-Series</td>\n",
       "      <td>Celebrity/ Entertainment</td>\n",
       "      <td>212.1M</td>\n",
       "      <td>India</td>\n",
       "      <td>323.7K</td>\n",
       "      <td>9.8K</td>\n",
       "      <td>290</td>\n",
       "    </tr>\n",
       "    <tr>\n",
       "      <th>1</th>\n",
       "      <td>Cocomelon - Nursery Rhymes</td>\n",
       "      <td>Education</td>\n",
       "      <td>132.1M</td>\n",
       "      <td>NaN</td>\n",
       "      <td>13.8M</td>\n",
       "      <td>80.9K</td>\n",
       "      <td>NaN</td>\n",
       "    </tr>\n",
       "    <tr>\n",
       "      <th>2</th>\n",
       "      <td>SET India</td>\n",
       "      <td>NaN</td>\n",
       "      <td>130.4M</td>\n",
       "      <td>India</td>\n",
       "      <td>23.6K</td>\n",
       "      <td>314</td>\n",
       "      <td>21</td>\n",
       "    </tr>\n",
       "    <tr>\n",
       "      <th>3</th>\n",
       "      <td>PewDiePie</td>\n",
       "      <td>Celebrity/ Entertainment</td>\n",
       "      <td>111.4M</td>\n",
       "      <td>United States</td>\n",
       "      <td>1.4M</td>\n",
       "      <td>80.8K</td>\n",
       "      <td>4.6K</td>\n",
       "    </tr>\n",
       "    <tr>\n",
       "      <th>4</th>\n",
       "      <td>MrBeast</td>\n",
       "      <td>Business/ Tech/ Gaming</td>\n",
       "      <td>92.5M</td>\n",
       "      <td>United States</td>\n",
       "      <td>30.6M</td>\n",
       "      <td>1.7M</td>\n",
       "      <td>67.7K</td>\n",
       "    </tr>\n",
       "    <tr>\n",
       "      <th>...</th>\n",
       "      <td>...</td>\n",
       "      <td>...</td>\n",
       "      <td>...</td>\n",
       "      <td>...</td>\n",
       "      <td>...</td>\n",
       "      <td>...</td>\n",
       "      <td>...</td>\n",
       "    </tr>\n",
       "    <tr>\n",
       "      <th>995</th>\n",
       "      <td>FutParódias</td>\n",
       "      <td>Celebrity/ Entertainment</td>\n",
       "      <td>9.2M</td>\n",
       "      <td>Brazil</td>\n",
       "      <td>1.4M</td>\n",
       "      <td>110.1K</td>\n",
       "      <td>2.5K</td>\n",
       "    </tr>\n",
       "    <tr>\n",
       "      <th>996</th>\n",
       "      <td>EL GATO</td>\n",
       "      <td>Family/ Home/ Parenting</td>\n",
       "      <td>9.2M</td>\n",
       "      <td>Brazil</td>\n",
       "      <td>243.8K</td>\n",
       "      <td>30.7K</td>\n",
       "      <td>636</td>\n",
       "    </tr>\n",
       "    <tr>\n",
       "      <th>997</th>\n",
       "      <td>CinemaSins</td>\n",
       "      <td>Celebrity/ Entertainment</td>\n",
       "      <td>9.2M</td>\n",
       "      <td>United States</td>\n",
       "      <td>296K</td>\n",
       "      <td>10.2K</td>\n",
       "      <td>874</td>\n",
       "    </tr>\n",
       "    <tr>\n",
       "      <th>998</th>\n",
       "      <td>ICC</td>\n",
       "      <td>Sports</td>\n",
       "      <td>9.2M</td>\n",
       "      <td>India</td>\n",
       "      <td>15.2K</td>\n",
       "      <td>854</td>\n",
       "      <td>58</td>\n",
       "    </tr>\n",
       "    <tr>\n",
       "      <th>999</th>\n",
       "      <td>BRKsEDU</td>\n",
       "      <td>Celebrity/ Entertainment</td>\n",
       "      <td>9.2M</td>\n",
       "      <td>Brazil</td>\n",
       "      <td>112.3K</td>\n",
       "      <td>9.8K</td>\n",
       "      <td>246</td>\n",
       "    </tr>\n",
       "  </tbody>\n",
       "</table>\n",
       "<p>942 rows × 7 columns</p>\n",
       "</div>"
      ],
      "text/plain": [
       "                   channel name                  Category Subscribers  \\\n",
       "0                      T-Series  Celebrity/ Entertainment      212.1M   \n",
       "1    Cocomelon - Nursery Rhymes                 Education      132.1M   \n",
       "2                     SET India                       NaN      130.4M   \n",
       "3                     PewDiePie  Celebrity/ Entertainment      111.4M   \n",
       "4                       MrBeast    Business/ Tech/ Gaming       92.5M   \n",
       "..                          ...                       ...         ...   \n",
       "995                 FutParódias  Celebrity/ Entertainment        9.2M   \n",
       "996                     EL GATO   Family/ Home/ Parenting        9.2M   \n",
       "997                  CinemaSins  Celebrity/ Entertainment        9.2M   \n",
       "998                         ICC                    Sports        9.2M   \n",
       "999                     BRKsEDU  Celebrity/ Entertainment        9.2M   \n",
       "\n",
       "    Audience Country avg views avg likes avg comments  \n",
       "0              India    323.7K      9.8K          290  \n",
       "1                NaN     13.8M     80.9K          NaN  \n",
       "2              India     23.6K       314           21  \n",
       "3      United States      1.4M     80.8K         4.6K  \n",
       "4      United States     30.6M      1.7M        67.7K  \n",
       "..               ...       ...       ...          ...  \n",
       "995           Brazil      1.4M    110.1K         2.5K  \n",
       "996           Brazil    243.8K     30.7K          636  \n",
       "997    United States      296K     10.2K          874  \n",
       "998            India     15.2K       854           58  \n",
       "999           Brazil    112.3K      9.8K          246  \n",
       "\n",
       "[942 rows x 7 columns]"
      ]
     },
     "execution_count": 5,
     "metadata": {},
     "output_type": "execute_result"
    }
   ],
   "source": [
    "#Drop column youtuber name\n",
    "\n",
    "youtube_2=youtube.drop(['youtuber name'], axis=1)\n",
    "youtube_2"
   ]
  },
  {
   "cell_type": "code",
   "execution_count": null,
   "id": "3631a53e",
   "metadata": {},
   "outputs": [],
   "source": [
    "#Rename columns\n",
    "\n"
   ]
  },
  {
   "cell_type": "code",
   "execution_count": 6,
   "id": "4a9e2bcd",
   "metadata": {},
   "outputs": [
    {
     "data": {
      "text/html": [
       "<div>\n",
       "<style scoped>\n",
       "    .dataframe tbody tr th:only-of-type {\n",
       "        vertical-align: middle;\n",
       "    }\n",
       "\n",
       "    .dataframe tbody tr th {\n",
       "        vertical-align: top;\n",
       "    }\n",
       "\n",
       "    .dataframe thead th {\n",
       "        text-align: right;\n",
       "    }\n",
       "</style>\n",
       "<table border=\"1\" class=\"dataframe\">\n",
       "  <thead>\n",
       "    <tr style=\"text-align: right;\">\n",
       "      <th></th>\n",
       "      <th>channel name</th>\n",
       "      <th>Category</th>\n",
       "      <th>Subscribers</th>\n",
       "      <th>Audience Country</th>\n",
       "      <th>avg views</th>\n",
       "      <th>avg likes</th>\n",
       "      <th>avg comments</th>\n",
       "    </tr>\n",
       "  </thead>\n",
       "  <tbody>\n",
       "    <tr>\n",
       "      <th>0</th>\n",
       "      <td>T-Series</td>\n",
       "      <td>Celebrity/ Entertainment</td>\n",
       "      <td>212.1M</td>\n",
       "      <td>India</td>\n",
       "      <td>323.7K</td>\n",
       "      <td>9.8K</td>\n",
       "      <td>290</td>\n",
       "    </tr>\n",
       "    <tr>\n",
       "      <th>1</th>\n",
       "      <td>PewDiePie</td>\n",
       "      <td>Celebrity/ Entertainment</td>\n",
       "      <td>111.4M</td>\n",
       "      <td>United States</td>\n",
       "      <td>1.4M</td>\n",
       "      <td>80.8K</td>\n",
       "      <td>4.6K</td>\n",
       "    </tr>\n",
       "    <tr>\n",
       "      <th>2</th>\n",
       "      <td>MrBeast</td>\n",
       "      <td>Business/ Tech/ Gaming</td>\n",
       "      <td>92.5M</td>\n",
       "      <td>United States</td>\n",
       "      <td>30.6M</td>\n",
       "      <td>1.7M</td>\n",
       "      <td>67.7K</td>\n",
       "    </tr>\n",
       "    <tr>\n",
       "      <th>3</th>\n",
       "      <td>WWE</td>\n",
       "      <td>Business/ Tech/ Gaming</td>\n",
       "      <td>86.9M</td>\n",
       "      <td>United States</td>\n",
       "      <td>76.6K</td>\n",
       "      <td>2.8K</td>\n",
       "      <td>163</td>\n",
       "    </tr>\n",
       "    <tr>\n",
       "      <th>4</th>\n",
       "      <td>Zee Music Company</td>\n",
       "      <td>Celebrity/ Entertainment</td>\n",
       "      <td>82.7M</td>\n",
       "      <td>India</td>\n",
       "      <td>108.7K</td>\n",
       "      <td>4.2K</td>\n",
       "      <td>155</td>\n",
       "    </tr>\n",
       "    <tr>\n",
       "      <th>...</th>\n",
       "      <td>...</td>\n",
       "      <td>...</td>\n",
       "      <td>...</td>\n",
       "      <td>...</td>\n",
       "      <td>...</td>\n",
       "      <td>...</td>\n",
       "      <td>...</td>\n",
       "    </tr>\n",
       "    <tr>\n",
       "      <th>514</th>\n",
       "      <td>FutParódias</td>\n",
       "      <td>Celebrity/ Entertainment</td>\n",
       "      <td>9.2M</td>\n",
       "      <td>Brazil</td>\n",
       "      <td>1.4M</td>\n",
       "      <td>110.1K</td>\n",
       "      <td>2.5K</td>\n",
       "    </tr>\n",
       "    <tr>\n",
       "      <th>515</th>\n",
       "      <td>EL GATO</td>\n",
       "      <td>Family/ Home/ Parenting</td>\n",
       "      <td>9.2M</td>\n",
       "      <td>Brazil</td>\n",
       "      <td>243.8K</td>\n",
       "      <td>30.7K</td>\n",
       "      <td>636</td>\n",
       "    </tr>\n",
       "    <tr>\n",
       "      <th>516</th>\n",
       "      <td>CinemaSins</td>\n",
       "      <td>Celebrity/ Entertainment</td>\n",
       "      <td>9.2M</td>\n",
       "      <td>United States</td>\n",
       "      <td>296K</td>\n",
       "      <td>10.2K</td>\n",
       "      <td>874</td>\n",
       "    </tr>\n",
       "    <tr>\n",
       "      <th>517</th>\n",
       "      <td>ICC</td>\n",
       "      <td>Sports</td>\n",
       "      <td>9.2M</td>\n",
       "      <td>India</td>\n",
       "      <td>15.2K</td>\n",
       "      <td>854</td>\n",
       "      <td>58</td>\n",
       "    </tr>\n",
       "    <tr>\n",
       "      <th>518</th>\n",
       "      <td>BRKsEDU</td>\n",
       "      <td>Celebrity/ Entertainment</td>\n",
       "      <td>9.2M</td>\n",
       "      <td>Brazil</td>\n",
       "      <td>112.3K</td>\n",
       "      <td>9.8K</td>\n",
       "      <td>246</td>\n",
       "    </tr>\n",
       "  </tbody>\n",
       "</table>\n",
       "<p>519 rows × 7 columns</p>\n",
       "</div>"
      ],
      "text/plain": [
       "          channel name                  Category Subscribers Audience Country  \\\n",
       "0             T-Series  Celebrity/ Entertainment      212.1M            India   \n",
       "1            PewDiePie  Celebrity/ Entertainment      111.4M    United States   \n",
       "2              MrBeast    Business/ Tech/ Gaming       92.5M    United States   \n",
       "3                  WWE    Business/ Tech/ Gaming       86.9M    United States   \n",
       "4    Zee Music Company  Celebrity/ Entertainment       82.7M            India   \n",
       "..                 ...                       ...         ...              ...   \n",
       "514        FutParódias  Celebrity/ Entertainment        9.2M           Brazil   \n",
       "515            EL GATO   Family/ Home/ Parenting        9.2M           Brazil   \n",
       "516         CinemaSins  Celebrity/ Entertainment        9.2M    United States   \n",
       "517                ICC                    Sports        9.2M            India   \n",
       "518            BRKsEDU  Celebrity/ Entertainment        9.2M           Brazil   \n",
       "\n",
       "    avg views avg likes avg comments  \n",
       "0      323.7K      9.8K          290  \n",
       "1        1.4M     80.8K         4.6K  \n",
       "2       30.6M      1.7M        67.7K  \n",
       "3       76.6K      2.8K          163  \n",
       "4      108.7K      4.2K          155  \n",
       "..        ...       ...          ...  \n",
       "514      1.4M    110.1K         2.5K  \n",
       "515    243.8K     30.7K          636  \n",
       "516      296K     10.2K          874  \n",
       "517     15.2K       854           58  \n",
       "518    112.3K      9.8K          246  \n",
       "\n",
       "[519 rows x 7 columns]"
      ]
     },
     "execution_count": 6,
     "metadata": {},
     "output_type": "execute_result"
    }
   ],
   "source": [
    "#Drop nulls\n",
    "\n",
    "youtube_3=youtube_2.dropna()\n",
    "\n",
    "youtube_3= youtube_3.reset_index(drop=True)\n",
    "\n",
    "youtube_3"
   ]
  },
  {
   "cell_type": "code",
   "execution_count": 7,
   "id": "2bda167a",
   "metadata": {},
   "outputs": [],
   "source": [
    "#Save as csv\n",
    "\n",
    "#youtube_3.to_csv(r'/Users/heyleenah/Desktop/youtube clean.csv')"
   ]
  },
  {
   "cell_type": "code",
   "execution_count": 8,
   "id": "d202cfa3",
   "metadata": {},
   "outputs": [
    {
     "data": {
      "text/plain": [
       "channel name        False\n",
       "Category            False\n",
       "Subscribers         False\n",
       "Audience Country    False\n",
       "avg views           False\n",
       "avg likes           False\n",
       "avg comments        False\n",
       "dtype: bool"
      ]
     },
     "execution_count": 8,
     "metadata": {},
     "output_type": "execute_result"
    }
   ],
   "source": [
    "#Check any nulls\n",
    "\n",
    "youtube_3.isna().any()"
   ]
  },
  {
   "cell_type": "code",
   "execution_count": 9,
   "id": "dc0fc7e6",
   "metadata": {},
   "outputs": [
    {
     "data": {
      "text/plain": [
       "Audience Country\n",
       "United States       213\n",
       "India                89\n",
       "Brazil               68\n",
       "Mexico               39\n",
       "Indonesia            28\n",
       "Russia               26\n",
       "Philippines           9\n",
       "Thailand              8\n",
       "Colombia              7\n",
       "Argentina             6\n",
       "Spain                 4\n",
       "United Kingdom        3\n",
       "Turkey                3\n",
       "Iraq                  3\n",
       "Saudi Arabia          3\n",
       "Algeria               2\n",
       "Japan                 2\n",
       "Peru                  1\n",
       "Pakistan              1\n",
       "France                1\n",
       "Egypt                 1\n",
       "Ecuador               1\n",
       "Bangladesh            1\n",
       "dtype: int64"
      ]
     },
     "execution_count": 9,
     "metadata": {},
     "output_type": "execute_result"
    }
   ],
   "source": [
    "#Check how many categories each country has\n",
    "\n",
    "cat_by_country=youtube_3.value_counts(['Audience Country'])\n",
    "cat_by_country"
   ]
  },
  {
   "cell_type": "code",
   "execution_count": 10,
   "id": "3ebb47e8",
   "metadata": {},
   "outputs": [
    {
     "data": {
      "text/plain": [
       "23"
      ]
     },
     "execution_count": 10,
     "metadata": {},
     "output_type": "execute_result"
    }
   ],
   "source": [
    "#Number of countries\n",
    "\n",
    "cat_by_country.count()"
   ]
  },
  {
   "cell_type": "code",
   "execution_count": 11,
   "id": "b0432b3a",
   "metadata": {},
   "outputs": [
    {
     "data": {
      "text/plain": [
       "Category                \n",
       "Celebrity/ Entertainment    274\n",
       "Business/ Tech/ Gaming       96\n",
       "Travel/ Lifestyle            73\n",
       "Family/ Home/ Parenting      20\n",
       "Food                         18\n",
       "Education                    14\n",
       "Sports                       11\n",
       "Fashion/ Beauty               9\n",
       "Health/ Fitness               3\n",
       "Automotive                    1\n",
       "dtype: int64"
      ]
     },
     "execution_count": 11,
     "metadata": {},
     "output_type": "execute_result"
    }
   ],
   "source": [
    "#Check how many times each category shows\n",
    "\n",
    "categories=youtube_3.value_counts(['Category'])\n",
    "categories"
   ]
  },
  {
   "cell_type": "code",
   "execution_count": 12,
   "id": "0c9b9547",
   "metadata": {},
   "outputs": [
    {
     "data": {
      "text/plain": [
       "10"
      ]
     },
     "execution_count": 12,
     "metadata": {},
     "output_type": "execute_result"
    }
   ],
   "source": [
    "#Number of categories\n",
    "\n",
    "categories.count()"
   ]
  },
  {
   "cell_type": "code",
   "execution_count": 13,
   "id": "a38f525a",
   "metadata": {},
   "outputs": [],
   "source": [
    "#Next cells show data by country"
   ]
  },
  {
   "cell_type": "code",
   "execution_count": 14,
   "id": "2d6ff9f9",
   "metadata": {},
   "outputs": [
    {
     "data": {
      "text/plain": [
       "Celebrity/ Entertainment    108\n",
       "Business/ Tech/ Gaming       44\n",
       "Travel/ Lifestyle            31\n",
       "Food                          9\n",
       "Sports                        7\n",
       "Fashion/ Beauty               6\n",
       "Education                     4\n",
       "Health/ Fitness               3\n",
       "Family/ Home/ Parenting       1\n",
       "Name: Category, dtype: int64"
      ]
     },
     "execution_count": 14,
     "metadata": {},
     "output_type": "execute_result"
    }
   ],
   "source": [
    "usa_df = youtube_3.loc[youtube_3[\"Audience Country\"] == \"United States\", :]\n",
    "usa_df = usa_df[\"Category\"].value_counts()\n",
    "usa_df.head(9)"
   ]
  },
  {
   "cell_type": "code",
   "execution_count": 15,
   "id": "a9971b75",
   "metadata": {},
   "outputs": [
    {
     "data": {
      "text/plain": [
       "Celebrity/ Entertainment    62\n",
       "Travel/ Lifestyle           14\n",
       "Education                    8\n",
       "Food                         2\n",
       "Sports                       2\n",
       "Business/ Tech/ Gaming       1\n",
       "Name: Category, dtype: int64"
      ]
     },
     "execution_count": 15,
     "metadata": {},
     "output_type": "execute_result"
    }
   ],
   "source": [
    "india_df = youtube_3.loc[youtube_3[\"Audience Country\"] == \"India\", :]\n",
    "india_df = india_df[\"Category\"].value_counts()\n",
    "india_df.head(9)"
   ]
  },
  {
   "cell_type": "code",
   "execution_count": 16,
   "id": "932c81fe",
   "metadata": {},
   "outputs": [
    {
     "data": {
      "text/plain": [
       "Celebrity/ Entertainment    31\n",
       "Family/ Home/ Parenting     15\n",
       "Business/ Tech/ Gaming      10\n",
       "Travel/ Lifestyle            5\n",
       "Food                         3\n",
       "Fashion/ Beauty              2\n",
       "Sports                       1\n",
       "Automotive                   1\n",
       "Name: Category, dtype: int64"
      ]
     },
     "execution_count": 16,
     "metadata": {},
     "output_type": "execute_result"
    }
   ],
   "source": [
    "brazil_df = youtube_3.loc[youtube_3[\"Audience Country\"] == \"Brazil\", :]\n",
    "brazil_df = brazil_df[\"Category\"].value_counts()\n",
    "brazil_df.head(9)"
   ]
  },
  {
   "cell_type": "code",
   "execution_count": 17,
   "id": "ddc431b6",
   "metadata": {},
   "outputs": [
    {
     "data": {
      "text/plain": [
       "Celebrity/ Entertainment    14\n",
       "Business/ Tech/ Gaming      13\n",
       "Travel/ Lifestyle            7\n",
       "Family/ Home/ Parenting      2\n",
       "Food                         2\n",
       "Fashion/ Beauty              1\n",
       "Name: Category, dtype: int64"
      ]
     },
     "execution_count": 17,
     "metadata": {},
     "output_type": "execute_result"
    }
   ],
   "source": [
    "mexico_df = youtube_3.loc[youtube_3[\"Audience Country\"] == \"Mexico\", :]\n",
    "mexico_df = mexico_df[\"Category\"].value_counts()\n",
    "mexico_df.head(9)"
   ]
  },
  {
   "cell_type": "code",
   "execution_count": 18,
   "id": "90f6cf19",
   "metadata": {},
   "outputs": [
    {
     "data": {
      "text/plain": [
       "Celebrity/ Entertainment    21\n",
       "Business/ Tech/ Gaming       3\n",
       "Food                         2\n",
       "Family/ Home/ Parenting      1\n",
       "Education                    1\n",
       "Name: Category, dtype: int64"
      ]
     },
     "execution_count": 18,
     "metadata": {},
     "output_type": "execute_result"
    }
   ],
   "source": [
    "indonesia_df = youtube_3.loc[youtube_3[\"Audience Country\"] == \"Indonesia\", :]\n",
    "indonesia_df = indonesia_df[\"Category\"].value_counts()\n",
    "indonesia_df.head(9)"
   ]
  },
  {
   "cell_type": "code",
   "execution_count": 19,
   "id": "97dbe0bf",
   "metadata": {},
   "outputs": [
    {
     "data": {
      "text/plain": [
       "Business/ Tech/ Gaming      17\n",
       "Travel/ Lifestyle            6\n",
       "Celebrity/ Entertainment     2\n",
       "Family/ Home/ Parenting      1\n",
       "Name: Category, dtype: int64"
      ]
     },
     "execution_count": 19,
     "metadata": {},
     "output_type": "execute_result"
    }
   ],
   "source": [
    "russia_df = youtube_3.loc[youtube_3[\"Audience Country\"] == \"Russia\", :]\n",
    "russia_df = russia_df[\"Category\"].value_counts()\n",
    "russia_df.head(9)"
   ]
  },
  {
   "cell_type": "code",
   "execution_count": 20,
   "id": "d2724f18",
   "metadata": {},
   "outputs": [
    {
     "data": {
      "text/plain": [
       "Celebrity/ Entertainment    6\n",
       "Travel/ Lifestyle           3\n",
       "Name: Category, dtype: int64"
      ]
     },
     "execution_count": 20,
     "metadata": {},
     "output_type": "execute_result"
    }
   ],
   "source": [
    "philippines_df = youtube_3.loc[youtube_3[\"Audience Country\"] == \"Philippines\", :]\n",
    "philippines_df = philippines_df[\"Category\"].value_counts()\n",
    "philippines_df.head(9)"
   ]
  },
  {
   "cell_type": "code",
   "execution_count": 21,
   "id": "8c2ebb8e",
   "metadata": {},
   "outputs": [
    {
     "data": {
      "text/plain": [
       "Celebrity/ Entertainment    8\n",
       "Name: Category, dtype: int64"
      ]
     },
     "execution_count": 21,
     "metadata": {},
     "output_type": "execute_result"
    }
   ],
   "source": [
    "thailand_df = youtube_3.loc[youtube_3[\"Audience Country\"] == \"Thailand\", :]\n",
    "thailand_df = thailand_df[\"Category\"].value_counts()\n",
    "thailand_df.head(9)"
   ]
  },
  {
   "cell_type": "code",
   "execution_count": 22,
   "id": "2bc613d6",
   "metadata": {},
   "outputs": [
    {
     "data": {
      "text/plain": [
       "Celebrity/ Entertainment    4\n",
       "Business/ Tech/ Gaming      2\n",
       "Travel/ Lifestyle           1\n",
       "Name: Category, dtype: int64"
      ]
     },
     "execution_count": 22,
     "metadata": {},
     "output_type": "execute_result"
    }
   ],
   "source": [
    "colombia_df = youtube_3.loc[youtube_3[\"Audience Country\"] == \"Colombia\", :]\n",
    "colombia_df = colombia_df[\"Category\"].value_counts()\n",
    "colombia_df.head(9)"
   ]
  },
  {
   "cell_type": "code",
   "execution_count": 23,
   "id": "0ca4e391",
   "metadata": {},
   "outputs": [
    {
     "data": {
      "text/plain": [
       "Celebrity/ Entertainment    4\n",
       "Business/ Tech/ Gaming      1\n",
       "Travel/ Lifestyle           1\n",
       "Name: Category, dtype: int64"
      ]
     },
     "execution_count": 23,
     "metadata": {},
     "output_type": "execute_result"
    }
   ],
   "source": [
    "argentina_df = youtube_3.loc[youtube_3[\"Audience Country\"] == \"Argentina\", :]\n",
    "argentina_df = argentina_df[\"Category\"].value_counts()\n",
    "argentina_df.head(9)"
   ]
  },
  {
   "cell_type": "code",
   "execution_count": 24,
   "id": "0f9bfb5d",
   "metadata": {},
   "outputs": [
    {
     "data": {
      "text/plain": [
       "Business/ Tech/ Gaming      2\n",
       "Celebrity/ Entertainment    1\n",
       "Travel/ Lifestyle           1\n",
       "Name: Category, dtype: int64"
      ]
     },
     "execution_count": 24,
     "metadata": {},
     "output_type": "execute_result"
    }
   ],
   "source": [
    "spain_df = youtube_3.loc[youtube_3[\"Audience Country\"] == \"Spain\", :]\n",
    "spain_df = spain_df[\"Category\"].value_counts()\n",
    "spain_df.head(9)"
   ]
  },
  {
   "cell_type": "code",
   "execution_count": 25,
   "id": "9480c952",
   "metadata": {},
   "outputs": [
    {
     "data": {
      "text/plain": [
       "Business/ Tech/ Gaming      1\n",
       "Sports                      1\n",
       "Celebrity/ Entertainment    1\n",
       "Name: Category, dtype: int64"
      ]
     },
     "execution_count": 25,
     "metadata": {},
     "output_type": "execute_result"
    }
   ],
   "source": [
    "united_kingdom_df = youtube_3.loc[youtube_3[\"Audience Country\"] == \"United Kingdom\", :]\n",
    "united_kingdom_df = united_kingdom_df[\"Category\"].value_counts()\n",
    "united_kingdom_df.head(9)"
   ]
  },
  {
   "cell_type": "code",
   "execution_count": 26,
   "id": "82e86836",
   "metadata": {},
   "outputs": [
    {
     "data": {
      "text/plain": [
       "Celebrity/ Entertainment    2\n",
       "Business/ Tech/ Gaming      1\n",
       "Name: Category, dtype: int64"
      ]
     },
     "execution_count": 26,
     "metadata": {},
     "output_type": "execute_result"
    }
   ],
   "source": [
    "turkey_df = youtube_3.loc[youtube_3[\"Audience Country\"] == \"Turkey\", :]\n",
    "turkey_df = turkey_df[\"Category\"].value_counts()\n",
    "turkey_df.head(9)"
   ]
  },
  {
   "cell_type": "code",
   "execution_count": 27,
   "id": "6d85857b",
   "metadata": {},
   "outputs": [
    {
     "data": {
      "text/plain": [
       "Celebrity/ Entertainment    3\n",
       "Name: Category, dtype: int64"
      ]
     },
     "execution_count": 27,
     "metadata": {},
     "output_type": "execute_result"
    }
   ],
   "source": [
    "iraq_df = youtube_3.loc[youtube_3[\"Audience Country\"] == \"Iraq\", :]\n",
    "iraq_df = iraq_df[\"Category\"].value_counts()\n",
    "iraq_df.head(9)"
   ]
  },
  {
   "cell_type": "code",
   "execution_count": 28,
   "id": "3db89ef7",
   "metadata": {},
   "outputs": [
    {
     "data": {
      "text/plain": [
       "Celebrity/ Entertainment    2\n",
       "Travel/ Lifestyle           1\n",
       "Name: Category, dtype: int64"
      ]
     },
     "execution_count": 28,
     "metadata": {},
     "output_type": "execute_result"
    }
   ],
   "source": [
    "saudi_arabia_df = youtube_3.loc[youtube_3[\"Audience Country\"] == \"Saudi Arabia\", :]\n",
    "saudi_arabia_df = saudi_arabia_df[\"Category\"].value_counts()\n",
    "saudi_arabia_df.head(9)"
   ]
  },
  {
   "cell_type": "code",
   "execution_count": 29,
   "id": "bd3da8aa",
   "metadata": {},
   "outputs": [
    {
     "data": {
      "text/plain": [
       "Education            1\n",
       "Travel/ Lifestyle    1\n",
       "Name: Category, dtype: int64"
      ]
     },
     "execution_count": 29,
     "metadata": {},
     "output_type": "execute_result"
    }
   ],
   "source": [
    "algeria_df = youtube_3.loc[youtube_3[\"Audience Country\"] == \"Algeria\", :]\n",
    "algeria_df = algeria_df[\"Category\"].value_counts()\n",
    "algeria_df.head(9)"
   ]
  },
  {
   "cell_type": "code",
   "execution_count": 30,
   "id": "dfc1934e",
   "metadata": {},
   "outputs": [
    {
     "data": {
      "text/plain": [
       "Celebrity/ Entertainment    2\n",
       "Name: Category, dtype: int64"
      ]
     },
     "execution_count": 30,
     "metadata": {},
     "output_type": "execute_result"
    }
   ],
   "source": [
    "japan_df = youtube_3.loc[youtube_3[\"Audience Country\"] == \"Japan\", :]\n",
    "japan_df = japan_df[\"Category\"].value_counts()\n",
    "japan_df.head(9)"
   ]
  },
  {
   "cell_type": "code",
   "execution_count": 31,
   "id": "aeb0634e",
   "metadata": {},
   "outputs": [
    {
     "data": {
      "text/plain": [
       "Business/ Tech/ Gaming    1\n",
       "Name: Category, dtype: int64"
      ]
     },
     "execution_count": 31,
     "metadata": {},
     "output_type": "execute_result"
    }
   ],
   "source": [
    "peru_df = youtube_3.loc[youtube_3[\"Audience Country\"] == \"Peru\", :]\n",
    "peru_df = peru_df[\"Category\"].value_counts()\n",
    "peru_df.head(9)"
   ]
  },
  {
   "cell_type": "code",
   "execution_count": 32,
   "id": "118218d5",
   "metadata": {},
   "outputs": [
    {
     "data": {
      "text/plain": [
       "Celebrity/ Entertainment    1\n",
       "Name: Category, dtype: int64"
      ]
     },
     "execution_count": 32,
     "metadata": {},
     "output_type": "execute_result"
    }
   ],
   "source": [
    "pakistan_df = youtube_3.loc[youtube_3[\"Audience Country\"] == \"Pakistan\", :]\n",
    "pakistan_df = pakistan_df[\"Category\"].value_counts()\n",
    "pakistan_df.head(9)"
   ]
  },
  {
   "cell_type": "code",
   "execution_count": 33,
   "id": "d1639af0",
   "metadata": {},
   "outputs": [
    {
     "data": {
      "text/plain": [
       "Celebrity/ Entertainment    1\n",
       "Name: Category, dtype: int64"
      ]
     },
     "execution_count": 33,
     "metadata": {},
     "output_type": "execute_result"
    }
   ],
   "source": [
    "france_df = youtube_3.loc[youtube_3[\"Audience Country\"] == \"France\", :]\n",
    "france_df = france_df[\"Category\"].value_counts()\n",
    "france_df.head(9)"
   ]
  },
  {
   "cell_type": "code",
   "execution_count": 34,
   "id": "bb7e31a2",
   "metadata": {},
   "outputs": [
    {
     "data": {
      "text/plain": [
       "Celebrity/ Entertainment    1\n",
       "Name: Category, dtype: int64"
      ]
     },
     "execution_count": 34,
     "metadata": {},
     "output_type": "execute_result"
    }
   ],
   "source": [
    "egypt_df = youtube_3.loc[youtube_3[\"Audience Country\"] == \"Egypt\", :]\n",
    "egypt_df = egypt_df[\"Category\"].value_counts()\n",
    "egypt_df.head(9)"
   ]
  },
  {
   "cell_type": "code",
   "execution_count": 35,
   "id": "137875be",
   "metadata": {},
   "outputs": [
    {
     "data": {
      "text/plain": [
       "Travel/ Lifestyle    1\n",
       "Name: Category, dtype: int64"
      ]
     },
     "execution_count": 35,
     "metadata": {},
     "output_type": "execute_result"
    }
   ],
   "source": [
    "ecuador_df = youtube_3.loc[youtube_3[\"Audience Country\"] == \"Ecuador\", :]\n",
    "ecuador_df = ecuador_df[\"Category\"].value_counts()\n",
    "ecuador_df.head(9)"
   ]
  },
  {
   "cell_type": "code",
   "execution_count": 36,
   "id": "fdb211dc",
   "metadata": {},
   "outputs": [
    {
     "data": {
      "text/plain": [
       "Travel/ Lifestyle    1\n",
       "Name: Category, dtype: int64"
      ]
     },
     "execution_count": 36,
     "metadata": {},
     "output_type": "execute_result"
    }
   ],
   "source": [
    "bangladesh_df = youtube_3.loc[youtube_3[\"Audience Country\"] == \"Bangladesh\", :]\n",
    "bangladesh_df = bangladesh_df[\"Category\"].value_counts()\n",
    "bangladesh_df.head(9)"
   ]
  },
  {
   "cell_type": "code",
   "execution_count": 39,
   "id": "e22cad51",
   "metadata": {},
   "outputs": [
    {
     "data": {
      "text/html": [
       "<div>\n",
       "<style scoped>\n",
       "    .dataframe tbody tr th:only-of-type {\n",
       "        vertical-align: middle;\n",
       "    }\n",
       "\n",
       "    .dataframe tbody tr th {\n",
       "        vertical-align: top;\n",
       "    }\n",
       "\n",
       "    .dataframe thead th {\n",
       "        text-align: right;\n",
       "    }\n",
       "</style>\n",
       "<table border=\"1\" class=\"dataframe\">\n",
       "  <thead>\n",
       "    <tr style=\"text-align: right;\">\n",
       "      <th></th>\n",
       "      <th></th>\n",
       "      <th>channel name</th>\n",
       "      <th>Category</th>\n",
       "      <th>Subscribers</th>\n",
       "      <th>avg likes</th>\n",
       "      <th>avg comments</th>\n",
       "    </tr>\n",
       "    <tr>\n",
       "      <th>Audience Country</th>\n",
       "      <th>avg views</th>\n",
       "      <th></th>\n",
       "      <th></th>\n",
       "      <th></th>\n",
       "      <th></th>\n",
       "      <th></th>\n",
       "    </tr>\n",
       "  </thead>\n",
       "  <tbody>\n",
       "    <tr>\n",
       "      <th rowspan=\"2\" valign=\"top\">Algeria</th>\n",
       "      <th>1M</th>\n",
       "      <td>Rawan and Rayan</td>\n",
       "      <td>Travel/ Lifestyle</td>\n",
       "      <td>10.1M</td>\n",
       "      <td>61.5K</td>\n",
       "      <td>4.4K</td>\n",
       "    </tr>\n",
       "    <tr>\n",
       "      <th>527.8K</th>\n",
       "      <td>Oum Walid</td>\n",
       "      <td>Education</td>\n",
       "      <td>10.3M</td>\n",
       "      <td>29.4K</td>\n",
       "      <td>1.6K</td>\n",
       "    </tr>\n",
       "    <tr>\n",
       "      <th rowspan=\"3\" valign=\"top\">Argentina</th>\n",
       "      <th>1.2M</th>\n",
       "      <td>RobleisIUTU</td>\n",
       "      <td>Celebrity/ Entertainment</td>\n",
       "      <td>16.9M</td>\n",
       "      <td>79.3K</td>\n",
       "      <td>2.3K</td>\n",
       "    </tr>\n",
       "    <tr>\n",
       "      <th>1.7M</th>\n",
       "      <td>Daddy Yankee</td>\n",
       "      <td>Celebrity/ Entertainment</td>\n",
       "      <td>35.8M</td>\n",
       "      <td>174.6K</td>\n",
       "      <td>15.8K</td>\n",
       "    </tr>\n",
       "    <tr>\n",
       "      <th>2.3M</th>\n",
       "      <td>Rubius Z</td>\n",
       "      <td>Business/ Tech/ Gaming</td>\n",
       "      <td>11.3M</td>\n",
       "      <td>194.6K</td>\n",
       "      <td>2.2K</td>\n",
       "    </tr>\n",
       "    <tr>\n",
       "      <th>...</th>\n",
       "      <th>...</th>\n",
       "      <td>...</td>\n",
       "      <td>...</td>\n",
       "      <td>...</td>\n",
       "      <td>...</td>\n",
       "      <td>...</td>\n",
       "    </tr>\n",
       "    <tr>\n",
       "      <th rowspan=\"5\" valign=\"top\">United States</th>\n",
       "      <th>903.9K</th>\n",
       "      <td>How It Should Have Ended</td>\n",
       "      <td>Celebrity/ Entertainment</td>\n",
       "      <td>10.3M</td>\n",
       "      <td>33.9K</td>\n",
       "      <td>1.3K</td>\n",
       "    </tr>\n",
       "    <tr>\n",
       "      <th>94.8K</th>\n",
       "      <td>Lilly Singh</td>\n",
       "      <td>Celebrity/ Entertainment</td>\n",
       "      <td>14.7M</td>\n",
       "      <td>6.6K</td>\n",
       "      <td>103</td>\n",
       "    </tr>\n",
       "    <tr>\n",
       "      <th>952K</th>\n",
       "      <td>Yoga With Adriene</td>\n",
       "      <td>Health/ Fitness</td>\n",
       "      <td>11.1M</td>\n",
       "      <td>19.7K</td>\n",
       "      <td>702</td>\n",
       "    </tr>\n",
       "    <tr>\n",
       "      <th>96.9K</th>\n",
       "      <td>Lofi Girl</td>\n",
       "      <td>Celebrity/ Entertainment</td>\n",
       "      <td>10.3M</td>\n",
       "      <td>3.8K</td>\n",
       "      <td>179</td>\n",
       "    </tr>\n",
       "    <tr>\n",
       "      <th>976.4K</th>\n",
       "      <td>DaBaby</td>\n",
       "      <td>Celebrity/ Entertainment</td>\n",
       "      <td>9.5M</td>\n",
       "      <td>36.4K</td>\n",
       "      <td>1.3K</td>\n",
       "    </tr>\n",
       "  </tbody>\n",
       "</table>\n",
       "<p>475 rows × 5 columns</p>\n",
       "</div>"
      ],
      "text/plain": [
       "                                        channel name  \\\n",
       "Audience Country avg views                             \n",
       "Algeria          1M                  Rawan and Rayan   \n",
       "                 527.8K                    Oum Walid   \n",
       "Argentina        1.2M                    RobleisIUTU   \n",
       "                 1.7M                   Daddy Yankee   \n",
       "                 2.3M                       Rubius Z   \n",
       "...                                              ...   \n",
       "United States    903.9K     How It Should Have Ended   \n",
       "                 94.8K                   Lilly Singh   \n",
       "                 952K              Yoga With Adriene   \n",
       "                 96.9K                     Lofi Girl   \n",
       "                 976.4K                       DaBaby   \n",
       "\n",
       "                                            Category Subscribers avg likes  \\\n",
       "Audience Country avg views                                                   \n",
       "Algeria          1M                Travel/ Lifestyle       10.1M     61.5K   \n",
       "                 527.8K                    Education       10.3M     29.4K   \n",
       "Argentina        1.2M       Celebrity/ Entertainment       16.9M     79.3K   \n",
       "                 1.7M       Celebrity/ Entertainment       35.8M    174.6K   \n",
       "                 2.3M         Business/ Tech/ Gaming       11.3M    194.6K   \n",
       "...                                              ...         ...       ...   \n",
       "United States    903.9K     Celebrity/ Entertainment       10.3M     33.9K   \n",
       "                 94.8K      Celebrity/ Entertainment       14.7M      6.6K   \n",
       "                 952K                Health/ Fitness       11.1M     19.7K   \n",
       "                 96.9K      Celebrity/ Entertainment       10.3M      3.8K   \n",
       "                 976.4K     Celebrity/ Entertainment        9.5M     36.4K   \n",
       "\n",
       "                           avg comments  \n",
       "Audience Country avg views               \n",
       "Algeria          1M                4.4K  \n",
       "                 527.8K            1.6K  \n",
       "Argentina        1.2M              2.3K  \n",
       "                 1.7M             15.8K  \n",
       "                 2.3M              2.2K  \n",
       "...                                 ...  \n",
       "United States    903.9K            1.3K  \n",
       "                 94.8K              103  \n",
       "                 952K               702  \n",
       "                 96.9K              179  \n",
       "                 976.4K            1.3K  \n",
       "\n",
       "[475 rows x 5 columns]"
      ]
     },
     "execution_count": 39,
     "metadata": {},
     "output_type": "execute_result"
    }
   ],
   "source": [
    "group_data = youtube_3.groupby(['Audience Country','avg views']).sum()\n",
    "group_data"
   ]
  },
  {
   "cell_type": "code",
   "execution_count": null,
   "id": "aeef6f9b",
   "metadata": {},
   "outputs": [],
   "source": []
  }
 ],
 "metadata": {
  "kernelspec": {
   "display_name": "Python 3 (ipykernel)",
   "language": "python",
   "name": "python3"
  },
  "language_info": {
   "codemirror_mode": {
    "name": "ipython",
    "version": 3
   },
   "file_extension": ".py",
   "mimetype": "text/x-python",
   "name": "python",
   "nbconvert_exporter": "python",
   "pygments_lexer": "ipython3",
   "version": "3.9.7"
  }
 },
 "nbformat": 4,
 "nbformat_minor": 5
}
