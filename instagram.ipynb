{
 "cells": [
  {
   "cell_type": "code",
   "execution_count": 1,
   "id": "d6c831df",
   "metadata": {},
   "outputs": [],
   "source": [
    "#Dependencies\n",
    "import pandas as pd"
   ]
  },
  {
   "cell_type": "code",
   "execution_count": 2,
   "id": "0fa0cfa6",
   "metadata": {},
   "outputs": [
    {
     "data": {
      "text/html": [
       "<div>\n",
       "<style scoped>\n",
       "    .dataframe tbody tr th:only-of-type {\n",
       "        vertical-align: middle;\n",
       "    }\n",
       "\n",
       "    .dataframe tbody tr th {\n",
       "        vertical-align: top;\n",
       "    }\n",
       "\n",
       "    .dataframe thead th {\n",
       "        text-align: right;\n",
       "    }\n",
       "</style>\n",
       "<table border=\"1\" class=\"dataframe\">\n",
       "  <thead>\n",
       "    <tr style=\"text-align: right;\">\n",
       "      <th></th>\n",
       "      <th>Influencer insta name</th>\n",
       "      <th>instagram name</th>\n",
       "      <th>category_1</th>\n",
       "      <th>category_2</th>\n",
       "      <th>Followers</th>\n",
       "      <th>Audience country(mostly)</th>\n",
       "      <th>Authentic engagement\\r\\n</th>\n",
       "      <th>Engagement avg\\r\\n</th>\n",
       "    </tr>\n",
       "  </thead>\n",
       "  <tbody>\n",
       "    <tr>\n",
       "      <th>0</th>\n",
       "      <td>433</td>\n",
       "      <td>433</td>\n",
       "      <td>Sports with a ball</td>\n",
       "      <td>NaN</td>\n",
       "      <td>48.5M</td>\n",
       "      <td>Spain</td>\n",
       "      <td>383.1K</td>\n",
       "      <td>637K</td>\n",
       "    </tr>\n",
       "    <tr>\n",
       "      <th>1</th>\n",
       "      <td>__youngbae__</td>\n",
       "      <td>TAEYANG</td>\n",
       "      <td>Music</td>\n",
       "      <td>NaN</td>\n",
       "      <td>12.7M</td>\n",
       "      <td>Indonesia</td>\n",
       "      <td>478K</td>\n",
       "      <td>542.3K</td>\n",
       "    </tr>\n",
       "    <tr>\n",
       "      <th>2</th>\n",
       "      <td>_agentgirl_</td>\n",
       "      <td>НАСТЯ ИВЛЕЕВА</td>\n",
       "      <td>Shows</td>\n",
       "      <td>NaN</td>\n",
       "      <td>18.8M</td>\n",
       "      <td>Russia</td>\n",
       "      <td>310.8K</td>\n",
       "      <td>377.9K</td>\n",
       "    </tr>\n",
       "    <tr>\n",
       "      <th>3</th>\n",
       "      <td>_imyour_joy</td>\n",
       "      <td>Joy</td>\n",
       "      <td>Lifestyle</td>\n",
       "      <td>NaN</td>\n",
       "      <td>13.5M</td>\n",
       "      <td>Indonesia</td>\n",
       "      <td>1.1M</td>\n",
       "      <td>1.4M</td>\n",
       "    </tr>\n",
       "    <tr>\n",
       "      <th>4</th>\n",
       "      <td>_jeongjaehyun</td>\n",
       "      <td>Jaehyun</td>\n",
       "      <td>NaN</td>\n",
       "      <td>NaN</td>\n",
       "      <td>11.1M</td>\n",
       "      <td>Indonesia</td>\n",
       "      <td>2.5M</td>\n",
       "      <td>3.1M</td>\n",
       "    </tr>\n",
       "    <tr>\n",
       "      <th>...</th>\n",
       "      <td>...</td>\n",
       "      <td>...</td>\n",
       "      <td>...</td>\n",
       "      <td>...</td>\n",
       "      <td>...</td>\n",
       "      <td>...</td>\n",
       "      <td>...</td>\n",
       "      <td>...</td>\n",
       "    </tr>\n",
       "    <tr>\n",
       "      <th>995</th>\n",
       "      <td>zendaya</td>\n",
       "      <td>Zendaya</td>\n",
       "      <td>Cinema &amp; Actors/actresses</td>\n",
       "      <td>Fashion</td>\n",
       "      <td>136.1M</td>\n",
       "      <td>United States</td>\n",
       "      <td>6.4M</td>\n",
       "      <td>8.6M</td>\n",
       "    </tr>\n",
       "    <tr>\n",
       "      <th>996</th>\n",
       "      <td>zidane</td>\n",
       "      <td>zidane</td>\n",
       "      <td>Sports with a ball</td>\n",
       "      <td>NaN</td>\n",
       "      <td>31.2M</td>\n",
       "      <td>Spain</td>\n",
       "      <td>546K</td>\n",
       "      <td>744.1K</td>\n",
       "    </tr>\n",
       "    <tr>\n",
       "      <th>997</th>\n",
       "      <td>zkdlin</td>\n",
       "      <td>KAI</td>\n",
       "      <td>Music</td>\n",
       "      <td>NaN</td>\n",
       "      <td>13.9M</td>\n",
       "      <td>Indonesia</td>\n",
       "      <td>1.3M</td>\n",
       "      <td>1.6M</td>\n",
       "    </tr>\n",
       "    <tr>\n",
       "      <th>998</th>\n",
       "      <td>zoeisabellakravitz</td>\n",
       "      <td>Zoë Kravitz</td>\n",
       "      <td>Cinema &amp; Actors/actresses</td>\n",
       "      <td>NaN</td>\n",
       "      <td>8.2M</td>\n",
       "      <td>United States</td>\n",
       "      <td>583K</td>\n",
       "      <td>885.5K</td>\n",
       "    </tr>\n",
       "    <tr>\n",
       "      <th>999</th>\n",
       "      <td>zoesugg</td>\n",
       "      <td>Zoë Sugg</td>\n",
       "      <td>Lifestyle</td>\n",
       "      <td>Business &amp; Careers</td>\n",
       "      <td>9.4M</td>\n",
       "      <td>United Kingdom</td>\n",
       "      <td>208.7K</td>\n",
       "      <td>289.3K</td>\n",
       "    </tr>\n",
       "  </tbody>\n",
       "</table>\n",
       "<p>1000 rows × 8 columns</p>\n",
       "</div>"
      ],
      "text/plain": [
       "    Influencer insta name instagram name                 category_1  \\\n",
       "0                     433            433         Sports with a ball   \n",
       "1            __youngbae__        TAEYANG                      Music   \n",
       "2             _agentgirl_  НАСТЯ ИВЛЕЕВА                      Shows   \n",
       "3             _imyour_joy            Joy                  Lifestyle   \n",
       "4           _jeongjaehyun        Jaehyun                        NaN   \n",
       "..                    ...            ...                        ...   \n",
       "995               zendaya        Zendaya  Cinema & Actors/actresses   \n",
       "996                zidane         zidane         Sports with a ball   \n",
       "997                zkdlin            KAI                      Music   \n",
       "998    zoeisabellakravitz   Zoë Kravitz  Cinema & Actors/actresses   \n",
       "999               zoesugg      Zoë Sugg                  Lifestyle   \n",
       "\n",
       "             category_2 Followers Audience country(mostly)  \\\n",
       "0                   NaN     48.5M                    Spain   \n",
       "1                   NaN     12.7M                Indonesia   \n",
       "2                   NaN     18.8M                   Russia   \n",
       "3                   NaN     13.5M                Indonesia   \n",
       "4                   NaN     11.1M                Indonesia   \n",
       "..                  ...       ...                      ...   \n",
       "995             Fashion    136.1M            United States   \n",
       "996                 NaN     31.2M                    Spain   \n",
       "997                 NaN     13.9M                Indonesia   \n",
       "998                 NaN      8.2M            United States   \n",
       "999  Business & Careers      9.4M           United Kingdom   \n",
       "\n",
       "    Authentic engagement\\r\\n Engagement avg\\r\\n  \n",
       "0                     383.1K               637K  \n",
       "1                       478K             542.3K  \n",
       "2                     310.8K             377.9K  \n",
       "3                       1.1M               1.4M  \n",
       "4                       2.5M               3.1M  \n",
       "..                       ...                ...  \n",
       "995                     6.4M               8.6M  \n",
       "996                     546K             744.1K  \n",
       "997                     1.3M               1.6M  \n",
       "998                     583K             885.5K  \n",
       "999                   208.7K             289.3K  \n",
       "\n",
       "[1000 rows x 8 columns]"
      ]
     },
     "execution_count": 2,
     "metadata": {},
     "output_type": "execute_result"
    }
   ],
   "source": [
    "#File to load\n",
    "file_to_load = \"resources/social media influencers - instagram.csv\"\n",
    "instagram = pd.read_csv(file_to_load)\n",
    "instagram"
   ]
  },
  {
   "cell_type": "code",
   "execution_count": 3,
   "id": "2a700df4",
   "metadata": {},
   "outputs": [
    {
     "data": {
      "text/html": [
       "<div>\n",
       "<style scoped>\n",
       "    .dataframe tbody tr th:only-of-type {\n",
       "        vertical-align: middle;\n",
       "    }\n",
       "\n",
       "    .dataframe tbody tr th {\n",
       "        vertical-align: top;\n",
       "    }\n",
       "\n",
       "    .dataframe thead th {\n",
       "        text-align: right;\n",
       "    }\n",
       "</style>\n",
       "<table border=\"1\" class=\"dataframe\">\n",
       "  <thead>\n",
       "    <tr style=\"text-align: right;\">\n",
       "      <th></th>\n",
       "      <th>Influencer insta name</th>\n",
       "      <th>instagram name</th>\n",
       "      <th>category_1</th>\n",
       "      <th>category_2</th>\n",
       "      <th>Followers</th>\n",
       "      <th>Audience country(mostly)</th>\n",
       "      <th>Authentic engagement\\r\\n</th>\n",
       "      <th>Engagement avg\\r\\n</th>\n",
       "    </tr>\n",
       "  </thead>\n",
       "  <tbody>\n",
       "    <tr>\n",
       "      <th>0</th>\n",
       "      <td>433</td>\n",
       "      <td>433</td>\n",
       "      <td>Sports with a ball</td>\n",
       "      <td>NaN</td>\n",
       "      <td>48.5M</td>\n",
       "      <td>Spain</td>\n",
       "      <td>383.1K</td>\n",
       "      <td>637K</td>\n",
       "    </tr>\n",
       "    <tr>\n",
       "      <th>1</th>\n",
       "      <td>__youngbae__</td>\n",
       "      <td>TAEYANG</td>\n",
       "      <td>Music</td>\n",
       "      <td>NaN</td>\n",
       "      <td>12.7M</td>\n",
       "      <td>Indonesia</td>\n",
       "      <td>478K</td>\n",
       "      <td>542.3K</td>\n",
       "    </tr>\n",
       "    <tr>\n",
       "      <th>2</th>\n",
       "      <td>_agentgirl_</td>\n",
       "      <td>НАСТЯ ИВЛЕЕВА</td>\n",
       "      <td>Shows</td>\n",
       "      <td>NaN</td>\n",
       "      <td>18.8M</td>\n",
       "      <td>Russia</td>\n",
       "      <td>310.8K</td>\n",
       "      <td>377.9K</td>\n",
       "    </tr>\n",
       "    <tr>\n",
       "      <th>3</th>\n",
       "      <td>_imyour_joy</td>\n",
       "      <td>Joy</td>\n",
       "      <td>Lifestyle</td>\n",
       "      <td>NaN</td>\n",
       "      <td>13.5M</td>\n",
       "      <td>Indonesia</td>\n",
       "      <td>1.1M</td>\n",
       "      <td>1.4M</td>\n",
       "    </tr>\n",
       "    <tr>\n",
       "      <th>4</th>\n",
       "      <td>_jeongjaehyun</td>\n",
       "      <td>Jaehyun</td>\n",
       "      <td>NaN</td>\n",
       "      <td>NaN</td>\n",
       "      <td>11.1M</td>\n",
       "      <td>Indonesia</td>\n",
       "      <td>2.5M</td>\n",
       "      <td>3.1M</td>\n",
       "    </tr>\n",
       "    <tr>\n",
       "      <th>...</th>\n",
       "      <td>...</td>\n",
       "      <td>...</td>\n",
       "      <td>...</td>\n",
       "      <td>...</td>\n",
       "      <td>...</td>\n",
       "      <td>...</td>\n",
       "      <td>...</td>\n",
       "      <td>...</td>\n",
       "    </tr>\n",
       "    <tr>\n",
       "      <th>995</th>\n",
       "      <td>zendaya</td>\n",
       "      <td>Zendaya</td>\n",
       "      <td>Cinema &amp; Actors/actresses</td>\n",
       "      <td>Fashion</td>\n",
       "      <td>136.1M</td>\n",
       "      <td>United States</td>\n",
       "      <td>6.4M</td>\n",
       "      <td>8.6M</td>\n",
       "    </tr>\n",
       "    <tr>\n",
       "      <th>996</th>\n",
       "      <td>zidane</td>\n",
       "      <td>zidane</td>\n",
       "      <td>Sports with a ball</td>\n",
       "      <td>NaN</td>\n",
       "      <td>31.2M</td>\n",
       "      <td>Spain</td>\n",
       "      <td>546K</td>\n",
       "      <td>744.1K</td>\n",
       "    </tr>\n",
       "    <tr>\n",
       "      <th>997</th>\n",
       "      <td>zkdlin</td>\n",
       "      <td>KAI</td>\n",
       "      <td>Music</td>\n",
       "      <td>NaN</td>\n",
       "      <td>13.9M</td>\n",
       "      <td>Indonesia</td>\n",
       "      <td>1.3M</td>\n",
       "      <td>1.6M</td>\n",
       "    </tr>\n",
       "    <tr>\n",
       "      <th>998</th>\n",
       "      <td>zoeisabellakravitz</td>\n",
       "      <td>Zoë Kravitz</td>\n",
       "      <td>Cinema &amp; Actors/actresses</td>\n",
       "      <td>NaN</td>\n",
       "      <td>8.2M</td>\n",
       "      <td>United States</td>\n",
       "      <td>583K</td>\n",
       "      <td>885.5K</td>\n",
       "    </tr>\n",
       "    <tr>\n",
       "      <th>999</th>\n",
       "      <td>zoesugg</td>\n",
       "      <td>Zoë Sugg</td>\n",
       "      <td>Lifestyle</td>\n",
       "      <td>Business &amp; Careers</td>\n",
       "      <td>9.4M</td>\n",
       "      <td>United Kingdom</td>\n",
       "      <td>208.7K</td>\n",
       "      <td>289.3K</td>\n",
       "    </tr>\n",
       "  </tbody>\n",
       "</table>\n",
       "<p>979 rows × 8 columns</p>\n",
       "</div>"
      ],
      "text/plain": [
       "    Influencer insta name instagram name                 category_1  \\\n",
       "0                     433            433         Sports with a ball   \n",
       "1            __youngbae__        TAEYANG                      Music   \n",
       "2             _agentgirl_  НАСТЯ ИВЛЕЕВА                      Shows   \n",
       "3             _imyour_joy            Joy                  Lifestyle   \n",
       "4           _jeongjaehyun        Jaehyun                        NaN   \n",
       "..                    ...            ...                        ...   \n",
       "995               zendaya        Zendaya  Cinema & Actors/actresses   \n",
       "996                zidane         zidane         Sports with a ball   \n",
       "997                zkdlin            KAI                      Music   \n",
       "998    zoeisabellakravitz   Zoë Kravitz  Cinema & Actors/actresses   \n",
       "999               zoesugg      Zoë Sugg                  Lifestyle   \n",
       "\n",
       "             category_2 Followers Audience country(mostly)  \\\n",
       "0                   NaN     48.5M                    Spain   \n",
       "1                   NaN     12.7M                Indonesia   \n",
       "2                   NaN     18.8M                   Russia   \n",
       "3                   NaN     13.5M                Indonesia   \n",
       "4                   NaN     11.1M                Indonesia   \n",
       "..                  ...       ...                      ...   \n",
       "995             Fashion    136.1M            United States   \n",
       "996                 NaN     31.2M                    Spain   \n",
       "997                 NaN     13.9M                Indonesia   \n",
       "998                 NaN      8.2M            United States   \n",
       "999  Business & Careers      9.4M           United Kingdom   \n",
       "\n",
       "    Authentic engagement\\r\\n Engagement avg\\r\\n  \n",
       "0                     383.1K               637K  \n",
       "1                       478K             542.3K  \n",
       "2                     310.8K             377.9K  \n",
       "3                       1.1M               1.4M  \n",
       "4                       2.5M               3.1M  \n",
       "..                       ...                ...  \n",
       "995                     6.4M               8.6M  \n",
       "996                     546K             744.1K  \n",
       "997                     1.3M               1.6M  \n",
       "998                     583K             885.5K  \n",
       "999                   208.7K             289.3K  \n",
       "\n",
       "[979 rows x 8 columns]"
      ]
     },
     "execution_count": 3,
     "metadata": {},
     "output_type": "execute_result"
    }
   ],
   "source": [
    "#Drop unnecessary categories\n",
    "\n",
    "instagram.drop(instagram.loc[instagram['category_1']=='Adult content'].index, inplace=True)\n",
    "\n",
    "instagram.drop(instagram.loc[instagram['category_1']=='Photography'].index, inplace=True)\n",
    "\n",
    "instagram.drop(instagram.loc[instagram['category_1']=='Literature & Journalism'].index, inplace=True)\n",
    "\n",
    "instagram.drop(instagram.loc[instagram['category_1']=='Nature & landscapes'].index, inplace=True)\n",
    "\n",
    "instagram.drop(instagram.loc[instagram['category_1']=='Science'].index, inplace=True)\n",
    "\n",
    "instagram.drop(instagram.loc[instagram['category_1']=='Animals'].index, inplace=True)\n",
    "\n",
    "instagram.drop(instagram.loc[instagram['category_1']=='Education'].index, inplace=True)\n",
    "\n",
    "instagram.drop(instagram.loc[instagram['category_1']=='Luxury'].index, inplace=True)\n",
    "\n",
    "instagram"
   ]
  },
  {
   "cell_type": "code",
   "execution_count": 4,
   "id": "01c00390",
   "metadata": {},
   "outputs": [],
   "source": [
    "#Group and rename categories\n",
    "\n",
    "instagram['category_1']=instagram['category_1'].replace(['Lifestyle', 'Humor & Fun & Happiness'],'Travel/ Lifestyle')\n",
    "\n",
    "instagram['category_1']=instagram['category_1'].replace(['Beauty', 'Clothing & Outfits',\n",
    "                                             'Fashion','Modeling','Accessories & Jewellery'],'Fashion/ Beauty')\n",
    "instagram['category_1']=instagram['category_1'].replace(['Music', 'Shows', 'Cinema & Actors/actresses', 'Art/Artists', 'Management & Marketing'],'Celebrity/ Entertainment')\n",
    "\n",
    "instagram['category_1']=instagram['category_1'].replace(['Sports with a ball'],'Sports')\n",
    "\n",
    "instagram['category_1']=instagram['category_1'].replace(['Fitness & Gym'],'Health/ Fitness')\n",
    "\n",
    "instagram['category_1']=instagram['category_1'].replace(['Family', 'Kids & Toys'],'Family/ Home/ Parenting')\n",
    "\n",
    "instagram['category_1']=instagram['category_1'].replace(['Computers & Gadgets', 'Finance & Economics', 'Business & Careers', 'Machinery & Technologies'],'Business/ Tech/ Gaming')\n",
    "\n",
    "instagram['category_1']=instagram['category_1'].replace(['Cars & Motorbikes', 'Racing Sports'],'Automotive')\n",
    "\n",
    "instagram['category_1']=instagram['category_1'].replace(['Food & Cooking'],'Food')\n"
   ]
  },
  {
   "cell_type": "code",
   "execution_count": 5,
   "id": "4c75009c",
   "metadata": {},
   "outputs": [
    {
     "data": {
      "text/html": [
       "<div>\n",
       "<style scoped>\n",
       "    .dataframe tbody tr th:only-of-type {\n",
       "        vertical-align: middle;\n",
       "    }\n",
       "\n",
       "    .dataframe tbody tr th {\n",
       "        vertical-align: top;\n",
       "    }\n",
       "\n",
       "    .dataframe thead th {\n",
       "        text-align: right;\n",
       "    }\n",
       "</style>\n",
       "<table border=\"1\" class=\"dataframe\">\n",
       "  <thead>\n",
       "    <tr style=\"text-align: right;\">\n",
       "      <th></th>\n",
       "      <th>Influencer insta name</th>\n",
       "      <th>category_1</th>\n",
       "      <th>Followers</th>\n",
       "      <th>Audience country(mostly)</th>\n",
       "      <th>Authentic engagement\\r\\n</th>\n",
       "      <th>Engagement avg\\r\\n</th>\n",
       "    </tr>\n",
       "  </thead>\n",
       "  <tbody>\n",
       "    <tr>\n",
       "      <th>0</th>\n",
       "      <td>433</td>\n",
       "      <td>Sports</td>\n",
       "      <td>48.5M</td>\n",
       "      <td>Spain</td>\n",
       "      <td>383.1K</td>\n",
       "      <td>637K</td>\n",
       "    </tr>\n",
       "    <tr>\n",
       "      <th>1</th>\n",
       "      <td>__youngbae__</td>\n",
       "      <td>Celebrity/ Entertainment</td>\n",
       "      <td>12.7M</td>\n",
       "      <td>Indonesia</td>\n",
       "      <td>478K</td>\n",
       "      <td>542.3K</td>\n",
       "    </tr>\n",
       "    <tr>\n",
       "      <th>2</th>\n",
       "      <td>_agentgirl_</td>\n",
       "      <td>Celebrity/ Entertainment</td>\n",
       "      <td>18.8M</td>\n",
       "      <td>Russia</td>\n",
       "      <td>310.8K</td>\n",
       "      <td>377.9K</td>\n",
       "    </tr>\n",
       "    <tr>\n",
       "      <th>3</th>\n",
       "      <td>_imyour_joy</td>\n",
       "      <td>Travel/ Lifestyle</td>\n",
       "      <td>13.5M</td>\n",
       "      <td>Indonesia</td>\n",
       "      <td>1.1M</td>\n",
       "      <td>1.4M</td>\n",
       "    </tr>\n",
       "    <tr>\n",
       "      <th>4</th>\n",
       "      <td>_jeongjaehyun</td>\n",
       "      <td>NaN</td>\n",
       "      <td>11.1M</td>\n",
       "      <td>Indonesia</td>\n",
       "      <td>2.5M</td>\n",
       "      <td>3.1M</td>\n",
       "    </tr>\n",
       "    <tr>\n",
       "      <th>...</th>\n",
       "      <td>...</td>\n",
       "      <td>...</td>\n",
       "      <td>...</td>\n",
       "      <td>...</td>\n",
       "      <td>...</td>\n",
       "      <td>...</td>\n",
       "    </tr>\n",
       "    <tr>\n",
       "      <th>995</th>\n",
       "      <td>zendaya</td>\n",
       "      <td>Celebrity/ Entertainment</td>\n",
       "      <td>136.1M</td>\n",
       "      <td>United States</td>\n",
       "      <td>6.4M</td>\n",
       "      <td>8.6M</td>\n",
       "    </tr>\n",
       "    <tr>\n",
       "      <th>996</th>\n",
       "      <td>zidane</td>\n",
       "      <td>Sports</td>\n",
       "      <td>31.2M</td>\n",
       "      <td>Spain</td>\n",
       "      <td>546K</td>\n",
       "      <td>744.1K</td>\n",
       "    </tr>\n",
       "    <tr>\n",
       "      <th>997</th>\n",
       "      <td>zkdlin</td>\n",
       "      <td>Celebrity/ Entertainment</td>\n",
       "      <td>13.9M</td>\n",
       "      <td>Indonesia</td>\n",
       "      <td>1.3M</td>\n",
       "      <td>1.6M</td>\n",
       "    </tr>\n",
       "    <tr>\n",
       "      <th>998</th>\n",
       "      <td>zoeisabellakravitz</td>\n",
       "      <td>Celebrity/ Entertainment</td>\n",
       "      <td>8.2M</td>\n",
       "      <td>United States</td>\n",
       "      <td>583K</td>\n",
       "      <td>885.5K</td>\n",
       "    </tr>\n",
       "    <tr>\n",
       "      <th>999</th>\n",
       "      <td>zoesugg</td>\n",
       "      <td>Travel/ Lifestyle</td>\n",
       "      <td>9.4M</td>\n",
       "      <td>United Kingdom</td>\n",
       "      <td>208.7K</td>\n",
       "      <td>289.3K</td>\n",
       "    </tr>\n",
       "  </tbody>\n",
       "</table>\n",
       "<p>979 rows × 6 columns</p>\n",
       "</div>"
      ],
      "text/plain": [
       "    Influencer insta name                category_1 Followers  \\\n",
       "0                     433                    Sports     48.5M   \n",
       "1            __youngbae__  Celebrity/ Entertainment     12.7M   \n",
       "2             _agentgirl_  Celebrity/ Entertainment     18.8M   \n",
       "3             _imyour_joy         Travel/ Lifestyle     13.5M   \n",
       "4           _jeongjaehyun                       NaN     11.1M   \n",
       "..                    ...                       ...       ...   \n",
       "995               zendaya  Celebrity/ Entertainment    136.1M   \n",
       "996                zidane                    Sports     31.2M   \n",
       "997                zkdlin  Celebrity/ Entertainment     13.9M   \n",
       "998    zoeisabellakravitz  Celebrity/ Entertainment      8.2M   \n",
       "999               zoesugg         Travel/ Lifestyle      9.4M   \n",
       "\n",
       "    Audience country(mostly) Authentic engagement\\r\\n Engagement avg\\r\\n  \n",
       "0                      Spain                   383.1K               637K  \n",
       "1                  Indonesia                     478K             542.3K  \n",
       "2                     Russia                   310.8K             377.9K  \n",
       "3                  Indonesia                     1.1M               1.4M  \n",
       "4                  Indonesia                     2.5M               3.1M  \n",
       "..                       ...                      ...                ...  \n",
       "995            United States                     6.4M               8.6M  \n",
       "996                    Spain                     546K             744.1K  \n",
       "997                Indonesia                     1.3M               1.6M  \n",
       "998            United States                     583K             885.5K  \n",
       "999           United Kingdom                   208.7K             289.3K  \n",
       "\n",
       "[979 rows x 6 columns]"
      ]
     },
     "execution_count": 5,
     "metadata": {},
     "output_type": "execute_result"
    }
   ],
   "source": [
    "#Drop columns category 2 & instagram name\n",
    "\n",
    "instagram_2=instagram.drop(['category_2','instagram name'], axis=1)\n",
    "instagram_2"
   ]
  },
  {
   "cell_type": "code",
   "execution_count": 49,
   "id": "6fe5b08d",
   "metadata": {},
   "outputs": [
    {
     "data": {
      "text/html": [
       "<div>\n",
       "<style scoped>\n",
       "    .dataframe tbody tr th:only-of-type {\n",
       "        vertical-align: middle;\n",
       "    }\n",
       "\n",
       "    .dataframe tbody tr th {\n",
       "        vertical-align: top;\n",
       "    }\n",
       "\n",
       "    .dataframe thead th {\n",
       "        text-align: right;\n",
       "    }\n",
       "</style>\n",
       "<table border=\"1\" class=\"dataframe\">\n",
       "  <thead>\n",
       "    <tr style=\"text-align: right;\">\n",
       "      <th></th>\n",
       "      <th>Influencer insta name</th>\n",
       "      <th>category_1</th>\n",
       "      <th>Followers</th>\n",
       "      <th>Audience country(mostly)</th>\n",
       "      <th>Authentic engagement\\r\\n</th>\n",
       "      <th>Engagement avg\\r\\n</th>\n",
       "    </tr>\n",
       "  </thead>\n",
       "  <tbody>\n",
       "    <tr>\n",
       "      <th>0</th>\n",
       "      <td>433</td>\n",
       "      <td>Sports</td>\n",
       "      <td>48.5M</td>\n",
       "      <td>Spain</td>\n",
       "      <td>383.1K</td>\n",
       "      <td>637K</td>\n",
       "    </tr>\n",
       "    <tr>\n",
       "      <th>1</th>\n",
       "      <td>__youngbae__</td>\n",
       "      <td>Celebrity/ Entertainment</td>\n",
       "      <td>12.7M</td>\n",
       "      <td>Indonesia</td>\n",
       "      <td>478K</td>\n",
       "      <td>542.3K</td>\n",
       "    </tr>\n",
       "    <tr>\n",
       "      <th>2</th>\n",
       "      <td>_agentgirl_</td>\n",
       "      <td>Celebrity/ Entertainment</td>\n",
       "      <td>18.8M</td>\n",
       "      <td>Russia</td>\n",
       "      <td>310.8K</td>\n",
       "      <td>377.9K</td>\n",
       "    </tr>\n",
       "    <tr>\n",
       "      <th>3</th>\n",
       "      <td>_imyour_joy</td>\n",
       "      <td>Travel/ Lifestyle</td>\n",
       "      <td>13.5M</td>\n",
       "      <td>Indonesia</td>\n",
       "      <td>1.1M</td>\n",
       "      <td>1.4M</td>\n",
       "    </tr>\n",
       "    <tr>\n",
       "      <th>4</th>\n",
       "      <td>_rl9</td>\n",
       "      <td>Sports</td>\n",
       "      <td>25M</td>\n",
       "      <td>Poland</td>\n",
       "      <td>588.6K</td>\n",
       "      <td>749K</td>\n",
       "    </tr>\n",
       "    <tr>\n",
       "      <th>...</th>\n",
       "      <td>...</td>\n",
       "      <td>...</td>\n",
       "      <td>...</td>\n",
       "      <td>...</td>\n",
       "      <td>...</td>\n",
       "      <td>...</td>\n",
       "    </tr>\n",
       "    <tr>\n",
       "      <th>863</th>\n",
       "      <td>zendaya</td>\n",
       "      <td>Celebrity/ Entertainment</td>\n",
       "      <td>136.1M</td>\n",
       "      <td>United States</td>\n",
       "      <td>6.4M</td>\n",
       "      <td>8.6M</td>\n",
       "    </tr>\n",
       "    <tr>\n",
       "      <th>864</th>\n",
       "      <td>zidane</td>\n",
       "      <td>Sports</td>\n",
       "      <td>31.2M</td>\n",
       "      <td>Spain</td>\n",
       "      <td>546K</td>\n",
       "      <td>744.1K</td>\n",
       "    </tr>\n",
       "    <tr>\n",
       "      <th>865</th>\n",
       "      <td>zkdlin</td>\n",
       "      <td>Celebrity/ Entertainment</td>\n",
       "      <td>13.9M</td>\n",
       "      <td>Indonesia</td>\n",
       "      <td>1.3M</td>\n",
       "      <td>1.6M</td>\n",
       "    </tr>\n",
       "    <tr>\n",
       "      <th>866</th>\n",
       "      <td>zoeisabellakravitz</td>\n",
       "      <td>Celebrity/ Entertainment</td>\n",
       "      <td>8.2M</td>\n",
       "      <td>United States</td>\n",
       "      <td>583K</td>\n",
       "      <td>885.5K</td>\n",
       "    </tr>\n",
       "    <tr>\n",
       "      <th>867</th>\n",
       "      <td>zoesugg</td>\n",
       "      <td>Travel/ Lifestyle</td>\n",
       "      <td>9.4M</td>\n",
       "      <td>United Kingdom</td>\n",
       "      <td>208.7K</td>\n",
       "      <td>289.3K</td>\n",
       "    </tr>\n",
       "  </tbody>\n",
       "</table>\n",
       "<p>868 rows × 6 columns</p>\n",
       "</div>"
      ],
      "text/plain": [
       "    Influencer insta name                category_1 Followers  \\\n",
       "0                     433                    Sports     48.5M   \n",
       "1            __youngbae__  Celebrity/ Entertainment     12.7M   \n",
       "2             _agentgirl_  Celebrity/ Entertainment     18.8M   \n",
       "3             _imyour_joy         Travel/ Lifestyle     13.5M   \n",
       "4                    _rl9                    Sports       25M   \n",
       "..                    ...                       ...       ...   \n",
       "863               zendaya  Celebrity/ Entertainment    136.1M   \n",
       "864                zidane                    Sports     31.2M   \n",
       "865                zkdlin  Celebrity/ Entertainment     13.9M   \n",
       "866    zoeisabellakravitz  Celebrity/ Entertainment      8.2M   \n",
       "867               zoesugg         Travel/ Lifestyle      9.4M   \n",
       "\n",
       "    Audience country(mostly) Authentic engagement\\r\\n Engagement avg\\r\\n  \n",
       "0                      Spain                   383.1K               637K  \n",
       "1                  Indonesia                     478K             542.3K  \n",
       "2                     Russia                   310.8K             377.9K  \n",
       "3                  Indonesia                     1.1M               1.4M  \n",
       "4                     Poland                   588.6K               749K  \n",
       "..                       ...                      ...                ...  \n",
       "863            United States                     6.4M               8.6M  \n",
       "864                    Spain                     546K             744.1K  \n",
       "865                Indonesia                     1.3M               1.6M  \n",
       "866            United States                     583K             885.5K  \n",
       "867           United Kingdom                   208.7K             289.3K  \n",
       "\n",
       "[868 rows x 6 columns]"
      ]
     },
     "execution_count": 49,
     "metadata": {},
     "output_type": "execute_result"
    }
   ],
   "source": [
    "#Drop nulls\n",
    "\n",
    "instagram_3=instagram_2.dropna()\n",
    "\n",
    "instagram_3=instagram_3.reset_index(drop=True)\n",
    "\n",
    "instagram_3"
   ]
  },
  {
   "cell_type": "code",
   "execution_count": 48,
   "id": "354d9946",
   "metadata": {},
   "outputs": [],
   "source": [
    "#Save as csv\n",
    "\n",
    "#instagram_3.to_csv(r'/Users/heyleenah/Desktop/instagram clean.csv')"
   ]
  },
  {
   "cell_type": "code",
   "execution_count": 7,
   "id": "89c681ac",
   "metadata": {},
   "outputs": [
    {
     "data": {
      "text/plain": [
       "Influencer insta name       False\n",
       "category_1                  False\n",
       "Followers                   False\n",
       "Audience country(mostly)    False\n",
       "Authentic engagement\\r\\n    False\n",
       "Engagement avg\\r\\n          False\n",
       "dtype: bool"
      ]
     },
     "execution_count": 7,
     "metadata": {},
     "output_type": "execute_result"
    }
   ],
   "source": [
    "#Check any nulls\n",
    "\n",
    "instagram_3.isna().any()"
   ]
  },
  {
   "cell_type": "code",
   "execution_count": 8,
   "id": "e90a2959",
   "metadata": {},
   "outputs": [],
   "source": [
    "#no_naan.to_csv(r'/Users/heyleenah/Desktop/no null.csv')"
   ]
  },
  {
   "cell_type": "code",
   "execution_count": 9,
   "id": "b0ddb1fb",
   "metadata": {},
   "outputs": [
    {
     "data": {
      "text/plain": [
       "Audience country(mostly)\n",
       "United States               248\n",
       "India                       137\n",
       "Brazil                      137\n",
       "Indonesia                   100\n",
       "Mexico                       36\n",
       "Spain                        34\n",
       "Russia                       22\n",
       "Argentina                    22\n",
       "United Kingdom               20\n",
       "Iran                         19\n",
       "Turkey                       16\n",
       "Colombia                     12\n",
       "Italy                        10\n",
       "South Korea                   7\n",
       "Philippines                   7\n",
       "France                        6\n",
       "Thailand                      6\n",
       "Egypt                         5\n",
       "Iraq                          5\n",
       "Germany                       3\n",
       "Morocco                       3\n",
       "Nigeria                       2\n",
       "Japan                         2\n",
       "Ukraine                       1\n",
       "United Arab Emirates          1\n",
       "China                         1\n",
       "Syria                         1\n",
       "Serbia                        1\n",
       "Poland                        1\n",
       "Algeria                       1\n",
       "Chile                         1\n",
       "Albania                       1\n",
       "dtype: int64"
      ]
     },
     "execution_count": 9,
     "metadata": {},
     "output_type": "execute_result"
    }
   ],
   "source": [
    "#Check how many categories each country has\n",
    "\n",
    "cat_by_country=instagram_3.value_counts(['Audience country(mostly)'])\n",
    "cat_by_country"
   ]
  },
  {
   "cell_type": "code",
   "execution_count": 10,
   "id": "44a05122",
   "metadata": {},
   "outputs": [
    {
     "data": {
      "text/plain": [
       "32"
      ]
     },
     "execution_count": 10,
     "metadata": {},
     "output_type": "execute_result"
    }
   ],
   "source": [
    "#Number of countries\n",
    "\n",
    "cat_by_country.count()"
   ]
  },
  {
   "cell_type": "code",
   "execution_count": 11,
   "id": "273677c4",
   "metadata": {},
   "outputs": [
    {
     "data": {
      "text/plain": [
       "category_1              \n",
       "Celebrity/ Entertainment    505\n",
       "Travel/ Lifestyle           117\n",
       "Sports                      113\n",
       "Fashion/ Beauty              79\n",
       "Business/ Tech/ Gaming       18\n",
       "Automotive                   12\n",
       "Family/ Home/ Parenting      11\n",
       "Health/ Fitness              10\n",
       "Food                          3\n",
       "dtype: int64"
      ]
     },
     "execution_count": 11,
     "metadata": {},
     "output_type": "execute_result"
    }
   ],
   "source": [
    "#Check how many times each category shows\n",
    "\n",
    "categories=instagram_3.value_counts(['category_1'])\n",
    "categories"
   ]
  },
  {
   "cell_type": "code",
   "execution_count": 12,
   "id": "302f05d0",
   "metadata": {},
   "outputs": [
    {
     "data": {
      "text/plain": [
       "9"
      ]
     },
     "execution_count": 12,
     "metadata": {},
     "output_type": "execute_result"
    }
   ],
   "source": [
    "#Number of categories\n",
    "\n",
    "categories.count()"
   ]
  },
  {
   "cell_type": "code",
   "execution_count": 13,
   "id": "7991610c",
   "metadata": {},
   "outputs": [],
   "source": [
    "#Next cells show data by country"
   ]
  },
  {
   "cell_type": "code",
   "execution_count": 14,
   "id": "87cdf663",
   "metadata": {},
   "outputs": [
    {
     "data": {
      "text/plain": [
       "Celebrity/ Entertainment    150\n",
       "Travel/ Lifestyle            33\n",
       "Fashion/ Beauty              29\n",
       "Sports                       16\n",
       "Business/ Tech/ Gaming        7\n",
       "Health/ Fitness               6\n",
       "Automotive                    4\n",
       "Family/ Home/ Parenting       2\n",
       "Food                          1\n",
       "Name: category_1, dtype: int64"
      ]
     },
     "execution_count": 14,
     "metadata": {},
     "output_type": "execute_result"
    }
   ],
   "source": [
    "usa_df = instagram_3.loc[instagram_3[\"Audience country(mostly)\"] == \"United States\", :]\n",
    "usa_df = usa_df[\"category_1\"].value_counts()\n",
    "usa_df.head(9)"
   ]
  },
  {
   "cell_type": "code",
   "execution_count": 15,
   "id": "112aac2e",
   "metadata": {},
   "outputs": [
    {
     "data": {
      "text/plain": [
       "Celebrity/ Entertainment    89\n",
       "Sports                      16\n",
       "Travel/ Lifestyle           13\n",
       "Fashion/ Beauty             12\n",
       "Business/ Tech/ Gaming       4\n",
       "Automotive                   1\n",
       "Family/ Home/ Parenting      1\n",
       "Health/ Fitness              1\n",
       "Name: category_1, dtype: int64"
      ]
     },
     "execution_count": 15,
     "metadata": {},
     "output_type": "execute_result"
    }
   ],
   "source": [
    "india_df = instagram_3.loc[instagram_3[\"Audience country(mostly)\"] == \"India\", :]\n",
    "india_df = india_df[\"category_1\"].value_counts()\n",
    "india_df.head(9)"
   ]
  },
  {
   "cell_type": "code",
   "execution_count": 16,
   "id": "cc18097a",
   "metadata": {},
   "outputs": [
    {
     "data": {
      "text/plain": [
       "Celebrity/ Entertainment    82\n",
       "Travel/ Lifestyle           24\n",
       "Sports                      16\n",
       "Fashion/ Beauty             13\n",
       "Business/ Tech/ Gaming       1\n",
       "Automotive                   1\n",
       "Name: category_1, dtype: int64"
      ]
     },
     "execution_count": 16,
     "metadata": {},
     "output_type": "execute_result"
    }
   ],
   "source": [
    "brazil_df = instagram_3.loc[instagram_3[\"Audience country(mostly)\"] == \"Brazil\", :]\n",
    "brazil_df = brazil_df[\"category_1\"].value_counts()\n",
    "brazil_df.head(9)"
   ]
  },
  {
   "cell_type": "code",
   "execution_count": 17,
   "id": "f691cda0",
   "metadata": {},
   "outputs": [
    {
     "data": {
      "text/plain": [
       "Celebrity/ Entertainment    62\n",
       "Travel/ Lifestyle           20\n",
       "Fashion/ Beauty             10\n",
       "Sports                       2\n",
       "Family/ Home/ Parenting      2\n",
       "Business/ Tech/ Gaming       2\n",
       "Automotive                   2\n",
       "Name: category_1, dtype: int64"
      ]
     },
     "execution_count": 17,
     "metadata": {},
     "output_type": "execute_result"
    }
   ],
   "source": [
    "indonesia_df = instagram_3.loc[instagram_3[\"Audience country(mostly)\"] == \"Indonesia\", :]\n",
    "indonesia_df = indonesia_df[\"category_1\"].value_counts()\n",
    "indonesia_df.head(9)"
   ]
  },
  {
   "cell_type": "code",
   "execution_count": 18,
   "id": "4103b8b7",
   "metadata": {},
   "outputs": [
    {
     "data": {
      "text/plain": [
       "Celebrity/ Entertainment    23\n",
       "Travel/ Lifestyle            7\n",
       "Fashion/ Beauty              4\n",
       "Health/ Fitness              1\n",
       "Business/ Tech/ Gaming       1\n",
       "Name: category_1, dtype: int64"
      ]
     },
     "execution_count": 18,
     "metadata": {},
     "output_type": "execute_result"
    }
   ],
   "source": [
    "mexico_df = instagram_3.loc[instagram_3[\"Audience country(mostly)\"] == \"Mexico\", :]\n",
    "mexico_df = mexico_df[\"category_1\"].value_counts()\n",
    "mexico_df.head(9)"
   ]
  },
  {
   "cell_type": "code",
   "execution_count": 19,
   "id": "91f8c192",
   "metadata": {},
   "outputs": [
    {
     "data": {
      "text/plain": [
       "Sports                      24\n",
       "Celebrity/ Entertainment     9\n",
       "Business/ Tech/ Gaming       1\n",
       "Name: category_1, dtype: int64"
      ]
     },
     "execution_count": 19,
     "metadata": {},
     "output_type": "execute_result"
    }
   ],
   "source": [
    "spain_df = instagram_3.loc[instagram_3[\"Audience country(mostly)\"] == \"Spain\", :]\n",
    "spain_df = spain_df[\"category_1\"].value_counts()\n",
    "spain_df.head(9)"
   ]
  },
  {
   "cell_type": "code",
   "execution_count": 20,
   "id": "f37c7bc1",
   "metadata": {},
   "outputs": [
    {
     "data": {
      "text/plain": [
       "Celebrity/ Entertainment    12\n",
       "Fashion/ Beauty              3\n",
       "Business/ Tech/ Gaming       2\n",
       "Family/ Home/ Parenting      2\n",
       "Health/ Fitness              1\n",
       "Travel/ Lifestyle            1\n",
       "Automotive                   1\n",
       "Name: category_1, dtype: int64"
      ]
     },
     "execution_count": 20,
     "metadata": {},
     "output_type": "execute_result"
    }
   ],
   "source": [
    "russia_df = instagram_3.loc[instagram_3[\"Audience country(mostly)\"] == \"Russia\", :]\n",
    "russia_df = russia_df[\"category_1\"].value_counts()\n",
    "russia_df.head(9)"
   ]
  },
  {
   "cell_type": "code",
   "execution_count": 21,
   "id": "68a5da82",
   "metadata": {},
   "outputs": [
    {
     "data": {
      "text/plain": [
       "Celebrity/ Entertainment    16\n",
       "Sports                       4\n",
       "Fashion/ Beauty              1\n",
       "Family/ Home/ Parenting      1\n",
       "Name: category_1, dtype: int64"
      ]
     },
     "execution_count": 21,
     "metadata": {},
     "output_type": "execute_result"
    }
   ],
   "source": [
    "argentina_df = instagram_3.loc[instagram_3[\"Audience country(mostly)\"] == \"Argentina\", :]\n",
    "argentina_df = argentina_df[\"category_1\"].value_counts()\n",
    "argentina_df.head(9)"
   ]
  },
  {
   "cell_type": "code",
   "execution_count": 22,
   "id": "b7a0cebe",
   "metadata": {},
   "outputs": [
    {
     "data": {
      "text/plain": [
       "Sports                      14\n",
       "Celebrity/ Entertainment     2\n",
       "Travel/ Lifestyle            2\n",
       "Health/ Fitness              1\n",
       "Family/ Home/ Parenting      1\n",
       "Name: category_1, dtype: int64"
      ]
     },
     "execution_count": 22,
     "metadata": {},
     "output_type": "execute_result"
    }
   ],
   "source": [
    "united_kingdom_df = instagram_3.loc[instagram_3[\"Audience country(mostly)\"] == \"United Kingdom\", :]\n",
    "united_kingdom_df = united_kingdom_df[\"category_1\"].value_counts()\n",
    "united_kingdom_df.head(9)"
   ]
  },
  {
   "cell_type": "code",
   "execution_count": 23,
   "id": "73e15b72",
   "metadata": {},
   "outputs": [
    {
     "data": {
      "text/plain": [
       "Celebrity/ Entertainment    12\n",
       "Sports                       3\n",
       "Travel/ Lifestyle            2\n",
       "Fashion/ Beauty              1\n",
       "Automotive                   1\n",
       "Name: category_1, dtype: int64"
      ]
     },
     "execution_count": 23,
     "metadata": {},
     "output_type": "execute_result"
    }
   ],
   "source": [
    "iran_df = instagram_3.loc[instagram_3[\"Audience country(mostly)\"] == \"Iran\", :]\n",
    "iran_df = iran_df[\"category_1\"].value_counts()\n",
    "iran_df.head(9)"
   ]
  },
  {
   "cell_type": "code",
   "execution_count": 24,
   "id": "71b12004",
   "metadata": {},
   "outputs": [
    {
     "data": {
      "text/plain": [
       "Celebrity/ Entertainment    10\n",
       "Food                         2\n",
       "Sports                       2\n",
       "Fashion/ Beauty              1\n",
       "Travel/ Lifestyle            1\n",
       "Name: category_1, dtype: int64"
      ]
     },
     "execution_count": 24,
     "metadata": {},
     "output_type": "execute_result"
    }
   ],
   "source": [
    "turkey_df = instagram_3.loc[instagram_3[\"Audience country(mostly)\"] == \"Turkey\", :]\n",
    "turkey_df = turkey_df[\"category_1\"].value_counts()\n",
    "turkey_df.head(9)"
   ]
  },
  {
   "cell_type": "code",
   "execution_count": 25,
   "id": "a62c4bdb",
   "metadata": {},
   "outputs": [
    {
     "data": {
      "text/plain": [
       "Sports                      3\n",
       "Celebrity/ Entertainment    3\n",
       "Automotive                  2\n",
       "Fashion/ Beauty             1\n",
       "Travel/ Lifestyle           1\n",
       "Name: category_1, dtype: int64"
      ]
     },
     "execution_count": 25,
     "metadata": {},
     "output_type": "execute_result"
    }
   ],
   "source": [
    "italy_df = instagram_3.loc[instagram_3[\"Audience country(mostly)\"] == \"Italy\", :]\n",
    "italy_df = italy_df[\"category_1\"].value_counts()\n",
    "italy_df.head(9)"
   ]
  },
  {
   "cell_type": "code",
   "execution_count": 26,
   "id": "c911705f",
   "metadata": {},
   "outputs": [
    {
     "data": {
      "text/plain": [
       "Celebrity/ Entertainment    7\n",
       "Travel/ Lifestyle           4\n",
       "Sports                      1\n",
       "Name: category_1, dtype: int64"
      ]
     },
     "execution_count": 26,
     "metadata": {},
     "output_type": "execute_result"
    }
   ],
   "source": [
    "colombia_df = instagram_3.loc[instagram_3[\"Audience country(mostly)\"] == \"Colombia\", :]\n",
    "colombia_df = colombia_df[\"category_1\"].value_counts()\n",
    "colombia_df.head(9)"
   ]
  },
  {
   "cell_type": "code",
   "execution_count": 27,
   "id": "be37e9b7",
   "metadata": {},
   "outputs": [
    {
     "data": {
      "text/plain": [
       "Celebrity/ Entertainment    5\n",
       "Travel/ Lifestyle           2\n",
       "Name: category_1, dtype: int64"
      ]
     },
     "execution_count": 27,
     "metadata": {},
     "output_type": "execute_result"
    }
   ],
   "source": [
    "south_korea_df = instagram_3.loc[instagram_3[\"Audience country(mostly)\"] == \"South Korea\", :]\n",
    "south_korea_df = south_korea_df[\"category_1\"].value_counts()\n",
    "south_korea_df.head(9)"
   ]
  },
  {
   "cell_type": "code",
   "execution_count": 28,
   "id": "2c342135",
   "metadata": {},
   "outputs": [
    {
     "data": {
      "text/plain": [
       "Celebrity/ Entertainment    3\n",
       "Fashion/ Beauty             2\n",
       "Travel/ Lifestyle           2\n",
       "Name: category_1, dtype: int64"
      ]
     },
     "execution_count": 28,
     "metadata": {},
     "output_type": "execute_result"
    }
   ],
   "source": [
    "philippines_df = instagram_3.loc[instagram_3[\"Audience country(mostly)\"] == \"Philippines\", :]\n",
    "philippines_df = philippines_df[\"category_1\"].value_counts()\n",
    "philippines_df.head(9)"
   ]
  },
  {
   "cell_type": "code",
   "execution_count": 29,
   "id": "4d88a54a",
   "metadata": {},
   "outputs": [
    {
     "data": {
      "text/plain": [
       "Sports                      3\n",
       "Fashion/ Beauty             1\n",
       "Travel/ Lifestyle           1\n",
       "Celebrity/ Entertainment    1\n",
       "Name: category_1, dtype: int64"
      ]
     },
     "execution_count": 29,
     "metadata": {},
     "output_type": "execute_result"
    }
   ],
   "source": [
    "france_df = instagram_3.loc[instagram_3[\"Audience country(mostly)\"] == \"France\", :]\n",
    "france_df = france_df[\"category_1\"].value_counts()\n",
    "france_df.head(9)"
   ]
  },
  {
   "cell_type": "code",
   "execution_count": 30,
   "id": "a5f07ebd",
   "metadata": {},
   "outputs": [
    {
     "data": {
      "text/plain": [
       "Celebrity/ Entertainment    5\n",
       "Fashion/ Beauty             1\n",
       "Name: category_1, dtype: int64"
      ]
     },
     "execution_count": 30,
     "metadata": {},
     "output_type": "execute_result"
    }
   ],
   "source": [
    "thailand_df = instagram_3.loc[instagram_3[\"Audience country(mostly)\"] == \"Thailand\", :]\n",
    "thailand_df = thailand_df[\"category_1\"].value_counts()\n",
    "thailand_df.head(9)"
   ]
  },
  {
   "cell_type": "code",
   "execution_count": 31,
   "id": "7869e402",
   "metadata": {},
   "outputs": [
    {
     "data": {
      "text/plain": [
       "Celebrity/ Entertainment    4\n",
       "Sports                      1\n",
       "Name: category_1, dtype: int64"
      ]
     },
     "execution_count": 31,
     "metadata": {},
     "output_type": "execute_result"
    }
   ],
   "source": [
    "egypt_df = instagram_3.loc[instagram_3[\"Audience country(mostly)\"] == \"Egypt\", :]\n",
    "egypt_df = egypt_df[\"category_1\"].value_counts()\n",
    "egypt_df.head(9)"
   ]
  },
  {
   "cell_type": "code",
   "execution_count": 32,
   "id": "a2fa4247",
   "metadata": {},
   "outputs": [
    {
     "data": {
      "text/plain": [
       "Celebrity/ Entertainment    3\n",
       "Travel/ Lifestyle           1\n",
       "Family/ Home/ Parenting     1\n",
       "Name: category_1, dtype: int64"
      ]
     },
     "execution_count": 32,
     "metadata": {},
     "output_type": "execute_result"
    }
   ],
   "source": [
    "iraq_df = instagram_3.loc[instagram_3[\"Audience country(mostly)\"] == \"Iraq\", :]\n",
    "iraq_df = iraq_df[\"category_1\"].value_counts()\n",
    "iraq_df.head(9)"
   ]
  },
  {
   "cell_type": "code",
   "execution_count": 33,
   "id": "26cbc62c",
   "metadata": {},
   "outputs": [
    {
     "data": {
      "text/plain": [
       "Sports                     2\n",
       "Family/ Home/ Parenting    1\n",
       "Name: category_1, dtype: int64"
      ]
     },
     "execution_count": 33,
     "metadata": {},
     "output_type": "execute_result"
    }
   ],
   "source": [
    "germany_df = instagram_3.loc[instagram_3[\"Audience country(mostly)\"] == \"Germany\", :]\n",
    "germany_df = germany_df[\"category_1\"].value_counts()\n",
    "germany_df.head(9)"
   ]
  },
  {
   "cell_type": "code",
   "execution_count": 34,
   "id": "c50babaf",
   "metadata": {},
   "outputs": [
    {
     "data": {
      "text/plain": [
       "Sports                      2\n",
       "Celebrity/ Entertainment    1\n",
       "Name: category_1, dtype: int64"
      ]
     },
     "execution_count": 34,
     "metadata": {},
     "output_type": "execute_result"
    }
   ],
   "source": [
    "morocco_df = instagram_3.loc[instagram_3[\"Audience country(mostly)\"] == \"Morocco\", :]\n",
    "morocco_df = morocco_df[\"category_1\"].value_counts()\n",
    "morocco_df.head(9)"
   ]
  },
  {
   "cell_type": "code",
   "execution_count": 35,
   "id": "afcb525b",
   "metadata": {},
   "outputs": [
    {
     "data": {
      "text/plain": [
       "Celebrity/ Entertainment    2\n",
       "Name: category_1, dtype: int64"
      ]
     },
     "execution_count": 35,
     "metadata": {},
     "output_type": "execute_result"
    }
   ],
   "source": [
    "nigeria_df = instagram_3.loc[instagram_3[\"Audience country(mostly)\"] == \"Nigeria\", :]\n",
    "nigeria_df = nigeria_df[\"category_1\"].value_counts()\n",
    "nigeria_df.head(9)"
   ]
  },
  {
   "cell_type": "code",
   "execution_count": 36,
   "id": "0becf711",
   "metadata": {},
   "outputs": [
    {
     "data": {
      "text/plain": [
       "Celebrity/ Entertainment    2\n",
       "Name: category_1, dtype: int64"
      ]
     },
     "execution_count": 36,
     "metadata": {},
     "output_type": "execute_result"
    }
   ],
   "source": [
    "japan_df = instagram_3.loc[instagram_3[\"Audience country(mostly)\"] == \"Japan\", :]\n",
    "japan_df = japan_df[\"category_1\"].value_counts()\n",
    "japan_df.head(9)"
   ]
  },
  {
   "cell_type": "code",
   "execution_count": 37,
   "id": "f141f5d0",
   "metadata": {},
   "outputs": [
    {
     "data": {
      "text/plain": [
       "Celebrity/ Entertainment    1\n",
       "Name: category_1, dtype: int64"
      ]
     },
     "execution_count": 37,
     "metadata": {},
     "output_type": "execute_result"
    }
   ],
   "source": [
    "ukraine_df = instagram_3.loc[instagram_3[\"Audience country(mostly)\"] == \"Ukraine\", :]\n",
    "ukraine_df = ukraine_df[\"category_1\"].value_counts()\n",
    "ukraine_df.head(9)"
   ]
  },
  {
   "cell_type": "code",
   "execution_count": 38,
   "id": "bb9fc3cf",
   "metadata": {},
   "outputs": [
    {
     "data": {
      "text/plain": [
       "Travel/ Lifestyle    1\n",
       "Name: category_1, dtype: int64"
      ]
     },
     "execution_count": 38,
     "metadata": {},
     "output_type": "execute_result"
    }
   ],
   "source": [
    "united_arab_emirates_df = instagram_3.loc[instagram_3[\"Audience country(mostly)\"] == \"United Arab Emirates\", :]\n",
    "united_arab_emirates_df = united_arab_emirates_df[\"category_1\"].value_counts()\n",
    "united_arab_emirates_df.head(9)"
   ]
  },
  {
   "cell_type": "code",
   "execution_count": 39,
   "id": "c578fba0",
   "metadata": {},
   "outputs": [
    {
     "data": {
      "text/plain": [
       "Celebrity/ Entertainment    1\n",
       "Name: category_1, dtype: int64"
      ]
     },
     "execution_count": 39,
     "metadata": {},
     "output_type": "execute_result"
    }
   ],
   "source": [
    "china_df = instagram_3.loc[instagram_3[\"Audience country(mostly)\"] == \"China\", :]\n",
    "china_df = china_df[\"category_1\"].value_counts()\n",
    "china_df.head(9)"
   ]
  },
  {
   "cell_type": "code",
   "execution_count": 40,
   "id": "72cf66a4",
   "metadata": {},
   "outputs": [
    {
     "data": {
      "text/plain": [
       "Travel/ Lifestyle    1\n",
       "Name: category_1, dtype: int64"
      ]
     },
     "execution_count": 40,
     "metadata": {},
     "output_type": "execute_result"
    }
   ],
   "source": [
    "syria_df = instagram_3.loc[instagram_3[\"Audience country(mostly)\"] == \"Syria\", :]\n",
    "syria_df = syria_df[\"category_1\"].value_counts()\n",
    "syria_df.head(9)"
   ]
  },
  {
   "cell_type": "code",
   "execution_count": 41,
   "id": "18d06bbc",
   "metadata": {},
   "outputs": [
    {
     "data": {
      "text/plain": [
       "Sports    1\n",
       "Name: category_1, dtype: int64"
      ]
     },
     "execution_count": 41,
     "metadata": {},
     "output_type": "execute_result"
    }
   ],
   "source": [
    "serbia_df = instagram_3.loc[instagram_3[\"Audience country(mostly)\"] == \"Serbia\", :]\n",
    "serbia_df = serbia_df[\"category_1\"].value_counts()\n",
    "serbia_df.head(9)"
   ]
  },
  {
   "cell_type": "code",
   "execution_count": 42,
   "id": "afa6ea16",
   "metadata": {},
   "outputs": [
    {
     "data": {
      "text/plain": [
       "Sports    1\n",
       "Name: category_1, dtype: int64"
      ]
     },
     "execution_count": 42,
     "metadata": {},
     "output_type": "execute_result"
    }
   ],
   "source": [
    "poland_df = instagram_3.loc[instagram_3[\"Audience country(mostly)\"] == \"Poland\", :]\n",
    "poland_df = poland_df[\"category_1\"].value_counts()\n",
    "poland_df.head(9)"
   ]
  },
  {
   "cell_type": "code",
   "execution_count": 43,
   "id": "97d90141",
   "metadata": {},
   "outputs": [
    {
     "data": {
      "text/plain": [
       "Sports    1\n",
       "Name: category_1, dtype: int64"
      ]
     },
     "execution_count": 43,
     "metadata": {},
     "output_type": "execute_result"
    }
   ],
   "source": [
    "algeria_df = instagram_3.loc[instagram_3[\"Audience country(mostly)\"] == \"Algeria\", :]\n",
    "algeria_df = algeria_df[\"category_1\"].value_counts()\n",
    "algeria_df.head(9)"
   ]
  },
  {
   "cell_type": "code",
   "execution_count": 44,
   "id": "45e9683b",
   "metadata": {},
   "outputs": [
    {
     "data": {
      "text/plain": [
       "Sports    1\n",
       "Name: category_1, dtype: int64"
      ]
     },
     "execution_count": 44,
     "metadata": {},
     "output_type": "execute_result"
    }
   ],
   "source": [
    "chile_df = instagram_3.loc[instagram_3[\"Audience country(mostly)\"] == \"Chile\", :]\n",
    "chile_df = chile_df[\"category_1\"].value_counts()\n",
    "chile_df.head(9)"
   ]
  },
  {
   "cell_type": "code",
   "execution_count": 45,
   "id": "bcbf39a4",
   "metadata": {},
   "outputs": [
    {
     "data": {
      "text/plain": [
       "Travel/ Lifestyle    1\n",
       "Name: category_1, dtype: int64"
      ]
     },
     "execution_count": 45,
     "metadata": {},
     "output_type": "execute_result"
    }
   ],
   "source": [
    "albania_df = instagram_3.loc[instagram_3[\"Audience country(mostly)\"] == \"Albania\", :]\n",
    "albania_df = albania_df[\"category_1\"].value_counts()\n",
    "albania_df.head(9)"
   ]
  },
  {
   "cell_type": "code",
   "execution_count": 53,
   "id": "e39af5c4",
   "metadata": {},
   "outputs": [
    {
     "data": {
      "text/html": [
       "<div>\n",
       "<style scoped>\n",
       "    .dataframe tbody tr th:only-of-type {\n",
       "        vertical-align: middle;\n",
       "    }\n",
       "\n",
       "    .dataframe tbody tr th {\n",
       "        vertical-align: top;\n",
       "    }\n",
       "\n",
       "    .dataframe thead th {\n",
       "        text-align: right;\n",
       "    }\n",
       "</style>\n",
       "<table border=\"1\" class=\"dataframe\">\n",
       "  <thead>\n",
       "    <tr style=\"text-align: right;\">\n",
       "      <th></th>\n",
       "      <th></th>\n",
       "      <th>Influencer insta name</th>\n",
       "      <th>category_1</th>\n",
       "      <th>Followers</th>\n",
       "      <th>Authentic engagement\\r\\n</th>\n",
       "    </tr>\n",
       "    <tr>\n",
       "      <th>Audience country(mostly)</th>\n",
       "      <th>Engagement avg</th>\n",
       "      <th></th>\n",
       "      <th></th>\n",
       "      <th></th>\n",
       "      <th></th>\n",
       "    </tr>\n",
       "  </thead>\n",
       "  <tbody>\n",
       "    <tr>\n",
       "      <th>Albania</th>\n",
       "      <th>611.6K</th>\n",
       "      <td>eilirjani</td>\n",
       "      <td>Travel/ Lifestyle</td>\n",
       "      <td>9.5M</td>\n",
       "      <td>423.9K</td>\n",
       "    </tr>\n",
       "    <tr>\n",
       "      <th>Algeria</th>\n",
       "      <th>429.9K</th>\n",
       "      <td>riyadmahrez26.7</td>\n",
       "      <td>Sports</td>\n",
       "      <td>8.5M</td>\n",
       "      <td>333.9K</td>\n",
       "    </tr>\n",
       "    <tr>\n",
       "      <th rowspan=\"3\" valign=\"top\">Argentina</th>\n",
       "      <th>1.1M</th>\n",
       "      <td>bizarrapdukissjevalunapaulodybala</td>\n",
       "      <td>Celebrity/ EntertainmentCelebrity/ Entertainme...</td>\n",
       "      <td>11.5M9M19.8M45.8M</td>\n",
       "      <td>920.8K607.2K812.1K662.9K</td>\n",
       "    </tr>\n",
       "    <tr>\n",
       "      <th>1.3M</th>\n",
       "      <td>nicki.nicole</td>\n",
       "      <td>Celebrity/ Entertainment</td>\n",
       "      <td>11.5M</td>\n",
       "      <td>876.2K</td>\n",
       "    </tr>\n",
       "    <tr>\n",
       "      <th>1.6M</th>\n",
       "      <td>antonelaroccuzzo</td>\n",
       "      <td>Fashion/ Beauty</td>\n",
       "      <td>19M</td>\n",
       "      <td>970.7K</td>\n",
       "    </tr>\n",
       "    <tr>\n",
       "      <th>...</th>\n",
       "      <th>...</th>\n",
       "      <td>...</td>\n",
       "      <td>...</td>\n",
       "      <td>...</td>\n",
       "      <td>...</td>\n",
       "    </tr>\n",
       "    <tr>\n",
       "      <th rowspan=\"5\" valign=\"top\">United States</th>\n",
       "      <th>959.8K</th>\n",
       "      <td>hichasestokes</td>\n",
       "      <td>Travel/ Lifestyle</td>\n",
       "      <td>7.4M</td>\n",
       "      <td>640.9K</td>\n",
       "    </tr>\n",
       "    <tr>\n",
       "      <th>961.2K</th>\n",
       "      <td>kourtneykardash</td>\n",
       "      <td>Travel/ Lifestyle</td>\n",
       "      <td>166.4M</td>\n",
       "      <td>674.5K</td>\n",
       "    </tr>\n",
       "    <tr>\n",
       "      <th>975.4K</th>\n",
       "      <td>lexibrookerivera</td>\n",
       "      <td>Celebrity/ Entertainment</td>\n",
       "      <td>8.4M</td>\n",
       "      <td>778K</td>\n",
       "    </tr>\n",
       "    <tr>\n",
       "      <th>983.9K</th>\n",
       "      <td>theweeknd</td>\n",
       "      <td>Celebrity/ Entertainment</td>\n",
       "      <td>37.5M</td>\n",
       "      <td>725.8K</td>\n",
       "    </tr>\n",
       "    <tr>\n",
       "      <th>99.3K</th>\n",
       "      <td>playstation</td>\n",
       "      <td>Business/ Tech/ Gaming</td>\n",
       "      <td>28.9M</td>\n",
       "      <td>80.5K</td>\n",
       "    </tr>\n",
       "  </tbody>\n",
       "</table>\n",
       "<p>788 rows × 4 columns</p>\n",
       "</div>"
      ],
      "text/plain": [
       "                                                         Influencer insta name  \\\n",
       "Audience country(mostly) Engagement avg\\r\\n                                      \n",
       "Albania                  611.6K                                      eilirjani   \n",
       "Algeria                  429.9K                                riyadmahrez26.7   \n",
       "Argentina                1.1M                bizarrapdukissjevalunapaulodybala   \n",
       "                         1.3M                                     nicki.nicole   \n",
       "                         1.6M                                 antonelaroccuzzo   \n",
       "...                                                                        ...   \n",
       "United States            959.8K                                  hichasestokes   \n",
       "                         961.2K                                kourtneykardash   \n",
       "                         975.4K                               lexibrookerivera   \n",
       "                         983.9K                                      theweeknd   \n",
       "                         99.3K                                     playstation   \n",
       "\n",
       "                                                                                    category_1  \\\n",
       "Audience country(mostly) Engagement avg\\r\\n                                                      \n",
       "Albania                  611.6K                                              Travel/ Lifestyle   \n",
       "Algeria                  429.9K                                                         Sports   \n",
       "Argentina                1.1M                Celebrity/ EntertainmentCelebrity/ Entertainme...   \n",
       "                         1.3M                                         Celebrity/ Entertainment   \n",
       "                         1.6M                                                  Fashion/ Beauty   \n",
       "...                                                                                        ...   \n",
       "United States            959.8K                                              Travel/ Lifestyle   \n",
       "                         961.2K                                              Travel/ Lifestyle   \n",
       "                         975.4K                                       Celebrity/ Entertainment   \n",
       "                         983.9K                                       Celebrity/ Entertainment   \n",
       "                         99.3K                                          Business/ Tech/ Gaming   \n",
       "\n",
       "                                                     Followers  \\\n",
       "Audience country(mostly) Engagement avg\\r\\n                      \n",
       "Albania                  611.6K                           9.5M   \n",
       "Algeria                  429.9K                           8.5M   \n",
       "Argentina                1.1M                11.5M9M19.8M45.8M   \n",
       "                         1.3M                            11.5M   \n",
       "                         1.6M                              19M   \n",
       "...                                                        ...   \n",
       "United States            959.8K                           7.4M   \n",
       "                         961.2K                         166.4M   \n",
       "                         975.4K                           8.4M   \n",
       "                         983.9K                          37.5M   \n",
       "                         99.3K                           28.9M   \n",
       "\n",
       "                                             Authentic engagement\\r\\n  \n",
       "Audience country(mostly) Engagement avg\\r\\n                            \n",
       "Albania                  611.6K                                423.9K  \n",
       "Algeria                  429.9K                                333.9K  \n",
       "Argentina                1.1M                920.8K607.2K812.1K662.9K  \n",
       "                         1.3M                                  876.2K  \n",
       "                         1.6M                                  970.7K  \n",
       "...                                                               ...  \n",
       "United States            959.8K                                640.9K  \n",
       "                         961.2K                                674.5K  \n",
       "                         975.4K                                  778K  \n",
       "                         983.9K                                725.8K  \n",
       "                         99.3K                                  80.5K  \n",
       "\n",
       "[788 rows x 4 columns]"
      ]
     },
     "execution_count": 53,
     "metadata": {},
     "output_type": "execute_result"
    }
   ],
   "source": [
    "group_data = instagram_3.groupby(['Audience country(mostly)','Engagement avg\\r\\n']).sum()\n",
    "group_data"
   ]
  },
  {
   "cell_type": "code",
   "execution_count": null,
   "id": "950aafce",
   "metadata": {},
   "outputs": [],
   "source": []
  }
 ],
 "metadata": {
  "kernelspec": {
   "display_name": "Python 3 (ipykernel)",
   "language": "python",
   "name": "python3"
  },
  "language_info": {
   "codemirror_mode": {
    "name": "ipython",
    "version": 3
   },
   "file_extension": ".py",
   "mimetype": "text/x-python",
   "name": "python",
   "nbconvert_exporter": "python",
   "pygments_lexer": "ipython3",
   "version": "3.9.7"
  }
 },
 "nbformat": 4,
 "nbformat_minor": 5
}
