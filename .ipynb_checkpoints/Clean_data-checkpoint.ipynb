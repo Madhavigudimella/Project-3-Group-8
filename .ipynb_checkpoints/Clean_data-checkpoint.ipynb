{
 "cells": [
  {
   "cell_type": "code",
   "execution_count": 5,
   "id": "e638e18d",
   "metadata": {},
   "outputs": [],
   "source": [
    "#Dependencies\n",
    "import pandas as pd\n",
    "import numpy as np"
   ]
  },
  {
   "cell_type": "code",
   "execution_count": 6,
   "id": "d8424904",
   "metadata": {},
   "outputs": [],
   "source": [
    "#Import csvs\n",
    "youtube = pd.read_csv('Resources/social media influencers - youtube.csv')\n",
    "instagram = pd.read_csv('Resources/social media influencers - instagram.csv')\n"
   ]
  },
  {
   "cell_type": "code",
   "execution_count": 11,
   "id": "0e7fd883",
   "metadata": {},
   "outputs": [
    {
     "data": {
      "text/plain": [
       "Music & Dance           185\n",
       "Video games              79\n",
       "Animation                56\n",
       "News & Politics          45\n",
       "Movies                   33\n",
       "Humor                    29\n",
       "Daily vlogs              27\n",
       "Toys                     20\n",
       "Science & Technology     17\n",
       "Food & Drinks            15\n",
       "Education                14\n",
       "DIY & Life Hacks         14\n",
       "Sports                   11\n",
       "Fashion                   7\n",
       "Animals & Pets            4\n",
       "Fitness                   3\n",
       "ASMR                      3\n",
       "Design/art                3\n",
       "Beauty                    2\n",
       "Health & Self Help        2\n",
       "Autos & Vehicles          1\n",
       "Mystery                   1\n",
       "Travel                    1\n",
       "Name: Category, dtype: int64"
      ]
     },
     "execution_count": 11,
     "metadata": {},
     "output_type": "execute_result"
    }
   ],
   "source": [
    "youtube = youtube.dropna(how='any')\n",
    "youtube['Category'].value_counts()"
   ]
  },
  {
   "cell_type": "code",
   "execution_count": 13,
   "id": "ab910625",
   "metadata": {},
   "outputs": [
    {
     "data": {
      "text/plain": [
       "Music & Dance           185\n",
       "Kids & Toys              99\n",
       "Movies                   89\n",
       "Journalism               72\n",
       "Humor                    29\n",
       "Other                    18\n",
       "Science & Technology     17\n",
       "Food & Drinks            15\n",
       "Education                14\n",
       "Sports                   11\n",
       "Fashion                   7\n",
       "Lifestyle                 5\n",
       "Animals & Pets            4\n",
       "Art/Artists               3\n",
       "Beauty                    2\n",
       "Autos & Vehicles          1\n",
       "Travel                    1\n",
       "Name: New_Category, dtype: int64"
      ]
     },
     "execution_count": 13,
     "metadata": {},
     "output_type": "execute_result"
    }
   ],
   "source": [
    "#clean up youtube df\n",
    "youtube['New_Category'] = youtube['Category'].replace(\n",
    "    {'Animation': 'Movies', 'ASMR': 'Other', 'Daily vlogs': 'Journalism', 'Design/art': 'Art/Artists', \n",
    "     'DIY & Life Hacks': 'Other', 'Fitness': 'Lifestyle', 'Health & Self Help': 'Lifestyle', 'Mystery': 'Other', \n",
    "     'News & Politics': 'Journalism', 'Toys': 'Kids & Toys', 'Video games': 'Kids & Toys', 'Naan': 'Other' })\n",
    "\n",
    "youtube['New_Category'].value_counts()"
   ]
  },
  {
   "cell_type": "code",
   "execution_count": 14,
   "id": "05d93e8a",
   "metadata": {},
   "outputs": [
    {
     "data": {
      "text/plain": [
       "Music                        66\n",
       "Cinema & Actors/actresses    51\n",
       "Lifestyle                    40\n",
       "Shows                        25\n",
       "Modeling                     16\n",
       "Beauty                       12\n",
       "Sports with a ball           11\n",
       "Art/Artists                   9\n",
       "Fashion                       8\n",
       "Family                        8\n",
       "Computers & Gadgets           5\n",
       "Finance & Economics           4\n",
       "Clothing & Outfits            4\n",
       "Cars & Motorbikes             3\n",
       "Nature & landscapes           3\n",
       "Humor & Fun & Happiness       3\n",
       "Literature & Journalism       2\n",
       "Management & Marketing        2\n",
       "Photography                   2\n",
       "Fitness & Gym                 2\n",
       "Science                       2\n",
       "Accessories & Jewellery       1\n",
       "Education                     1\n",
       "Luxury                        1\n",
       "Kids & Toys                   1\n",
       "Name: category_1, dtype: int64"
      ]
     },
     "execution_count": 14,
     "metadata": {},
     "output_type": "execute_result"
    }
   ],
   "source": [
    "#clean up instagram df\n",
    "instagram = instagram.dropna(how='any')\n",
    "instagram['category_1'].value_counts()\n"
   ]
  },
  {
   "cell_type": "code",
   "execution_count": 15,
   "id": "4ea5ae9c",
   "metadata": {},
   "outputs": [
    {
     "data": {
      "text/plain": [
       "Movies                  76\n",
       "Music & Dance           66\n",
       "Lifestyle               43\n",
       "Fashion                 29\n",
       "Other                   14\n",
       "Beauty                  12\n",
       "Sports                  11\n",
       "Art/Artists              9\n",
       "Science & Technology     7\n",
       "Autos & Vehicles         3\n",
       "Travel                   3\n",
       "Humor                    3\n",
       "Journalism               2\n",
       "Business & Careers       2\n",
       "Education                1\n",
       "Kids & Toys              1\n",
       "Name: New_Category, dtype: int64"
      ]
     },
     "execution_count": 15,
     "metadata": {},
     "output_type": "execute_result"
    }
   ],
   "source": [
    "#clean up youtube df\n",
    "instagram['New_Category'] = instagram['category_1'].replace(\n",
    "    {'Accessories & Jewellery': 'Fashion', 'Adult content': 'Lifestyle', 'Animals': 'Animals & Pets', \n",
    "     'Cars & Motorbikes': 'Autos & Vehicles', 'Cinema & Actors/actresses': 'Movies', 'Clothing & Outfits': 'Fashion', \n",
    "    'Computers & Gadgets': 'Science & Technology', 'Family': 'Other', 'Finance & Economics': 'Other', \n",
    "     'Fitness & Gym': 'Lifestyle', 'Food & Cooking': 'Food & Drinks', 'Humor & Fun & Happiness': 'Humor', \n",
    "     'Literature & Journalism': 'Journalism', 'Luxury': 'Lifestyle', 'Machinery & Technologies': 'Science & Technology',\n",
    "    'Management & Marketing': 'Other', 'Modeling': 'Fashion', 'Music': 'Music & Dance', 'Nature & landscapes': 'Travel', \n",
    "    'Photography': 'Business & Careers', 'Racing Sports': 'Sports', 'Science': 'Science & Technology', 'Shows': 'Movies', \n",
    "    'Sports with a ball': 'Sports', 'Naan': 'Other'})\n",
    "\n",
    "instagram['New_Category'].value_counts()"
   ]
  },
  {
   "cell_type": "code",
   "execution_count": 16,
   "id": "8c69171c",
   "metadata": {},
   "outputs": [],
   "source": [
    "#Export clean csvs to folder\n",
    "\n",
    "youtube.to_csv('clean_youtube.csv')\n",
    "instagram.to_csv('clean_instagram.csv')"
   ]
  },
  {
   "cell_type": "code",
   "execution_count": null,
   "id": "6f57f97f",
   "metadata": {},
   "outputs": [],
   "source": [
    "#join dataframes\n",
    "merge_df = "
   ]
  }
 ],
 "metadata": {
  "kernelspec": {
   "display_name": "Python 3 (ipykernel)",
   "language": "python",
   "name": "python3"
  },
  "language_info": {
   "codemirror_mode": {
    "name": "ipython",
    "version": 3
   },
   "file_extension": ".py",
   "mimetype": "text/x-python",
   "name": "python",
   "nbconvert_exporter": "python",
   "pygments_lexer": "ipython3",
   "version": "3.9.7"
  }
 },
 "nbformat": 4,
 "nbformat_minor": 5
}
